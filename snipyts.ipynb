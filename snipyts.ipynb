{
 "cells": [
  {
   "cell_type": "markdown",
   "id": "7a7f5ce5",
   "metadata": {},
   "source": [
    "# SniPyts"
   ]
  },
  {
   "cell_type": "markdown",
   "id": "e771d484",
   "metadata": {},
   "source": [
    "## Number Guessing Game"
   ]
  },
  {
   "cell_type": "code",
   "execution_count": 3,
   "id": "d0937369",
   "metadata": {},
   "outputs": [
    {
     "name": "stdout",
     "output_type": "stream",
     "text": [
      "Enter any number between 1 & 10: 8\n",
      "Too high\n",
      "Enter number again: 4\n",
      "You guessed it right\n"
     ]
    }
   ],
   "source": [
    "# Number guessing game\n",
    "import random\n",
    "\n",
    "n = random.randrange(1, 10)\n",
    "guess = int(input(\"Enter any number between 1 & 10: \"))\n",
    "while n != guess:\n",
    "    if guess < n:\n",
    "        print(\" Too low\")\n",
    "        guess = int(input(\"Enter number again: \"))\n",
    "    elif guess > n:\n",
    "        print(\"Too high\")\n",
    "        guess = int(input(\"Enter number again: \"))\n",
    "    else: \n",
    "        break\n",
    "print(\"You guessed it right\")"
   ]
  },
  {
   "cell_type": "markdown",
   "id": "ee129708",
   "metadata": {},
   "source": [
    "## Calculate Mean, Median and Mode"
   ]
  },
  {
   "cell_type": "code",
   "execution_count": 4,
   "id": "06512a1f",
   "metadata": {},
   "outputs": [
    {
     "name": "stdout",
     "output_type": "stream",
     "text": [
      "Mean of [26, 28, 10, 16, 13, 28, 26, 26, 25, 26]: 22.4\n",
      "Median of [11, 11, 16, 16, 19, 20, 22, 22, 23, 24]: 19.5\n",
      "Mode of [12, 16, 20, 20, 12, 30, 25, 23, 24, 20]: 20\n",
      "Mode of [12, 16, 20, 20, 12, 30, 25, 23, 24, 20]: 20\n"
     ]
    }
   ],
   "source": [
    "# Calculate mean, median and mode\n",
    "import random\n",
    "\n",
    "# Mean\n",
    "list = [random.randrange(10, 30) for i in range(10)]\n",
    "mean = sum(list)/len(list)\n",
    "print(f\"Mean of {list}: {mean}\")\n",
    "\n",
    "# Median \n",
    "list = [random.randrange(10, 30) for i in range(10)]\n",
    "list.sort()\n",
    "if len(list) % 2 == 0:\n",
    "    m1 = list[len(list)//2]\n",
    "    m2 = list[len(list)//2 - 1]\n",
    "    median = (m1 + m2)/2\n",
    "else:\n",
    "    median = list[len(list)//2]\n",
    "print(f\"Median of {list}: {median}\")\n",
    "\n",
    "# Mode\n",
    "list = [12, 16, 20, 20, 12, 30, 25, 23, 24, 20]\n",
    "frequency = {}\n",
    "for i in list:\n",
    "    frequency.setdefault(i, 0)\n",
    "    frequency[i] += 1\n",
    "\n",
    "frequent = max(frequency.values())\n",
    "for i, j in frequency.items():\n",
    "    if j == frequent:\n",
    "        mode = i\n",
    "print(f\"Mode of {list}: {mode}\")\n",
    "\n",
    "# Mode: Simple with dictionary comprehension\n",
    "list = [12, 16, 20, 20, 12, 30, 25, 23, 24, 20]\n",
    "freq = {key: list.count(key) for key in list} \n",
    "mode = max(freq, key=freq.get)\n",
    "print(f\"Mode of {list}: {mode}\")\n"
   ]
  },
  {
   "cell_type": "markdown",
   "id": "a7ebffcf",
   "metadata": {},
   "source": [
    "## Password Authentication"
   ]
  },
  {
   "cell_type": "code",
   "execution_count": 1,
   "id": "e1b8d660",
   "metadata": {},
   "outputs": [
    {
     "name": "stdout",
     "output_type": "stream",
     "text": [
      "User verfied !\n"
     ]
    }
   ],
   "source": [
    "# Password authentication\n",
    "import getpass\n",
    "\n",
    "database = {\"ravi.billa\": \"123456\", \"billa.ravi\": \"654321\"}\n",
    "username = input(\"Enter your username: \")\n",
    "\n",
    "if username in database.keys():\n",
    "    password = getpass.getpass(\"Enter your password: \")\n",
    "    \n",
    "    for user, pwd in database.items():\n",
    "         if username == user:\n",
    "                while password != database.get(user):\n",
    "                    password = getpass.getpass(\"Incorrect password! \\nEnter your password again: \")\n",
    "                break\n",
    "    print(\"User verfied !\")\n",
    "else:\n",
    "    print(\"User doesn't exist!\")"
   ]
  },
  {
   "cell_type": "markdown",
   "id": "49986d3d",
   "metadata": {
    "code_folding": []
   },
   "source": [
    "## Send Automatic Emails"
   ]
  },
  {
   "cell_type": "code",
   "execution_count": 7,
   "id": "838ee07e",
   "metadata": {},
   "outputs": [
    {
     "name": "stdout",
     "output_type": "stream",
     "text": [
      "Enter your name >>Ravi Billa\n",
      "Enter your e-mail >>billaravi@gmail.com\n",
      "Email sent\n"
     ]
    }
   ],
   "source": [
    "# Send automatic emails\n",
    "import os\n",
    "import random\n",
    "import smtplib\n",
    "\n",
    "def automatic_email():\n",
    "    user = input(\"Enter your name >>\")\n",
    "    email = input(\"Enter your e-mail >>\")\n",
    "    message = (f\"Dear {user}, weclome to snipyts\")\n",
    "    s = smtplib.SMTP('smtp.gmail.com', 587)\n",
    "    s.starttls()\n",
    "    s.login(\"Your Gmail Account\", \"Your App Password\")\n",
    "    s.sendmail('&&&&&&&', email, message)\n",
    "    print(\"Email sent\")\n",
    "\n",
    "automatic_email()\n"
   ]
  },
  {
   "cell_type": "markdown",
   "id": "f105d8de",
   "metadata": {},
   "source": [
    "## "
   ]
  },
  {
   "cell_type": "code",
   "execution_count": null,
   "id": "b73b1bc3",
   "metadata": {},
   "outputs": [],
   "source": []
  }
 ],
 "metadata": {
  "kernelspec": {
   "display_name": "Python 3 (ipykernel)",
   "language": "python",
   "name": "python3"
  },
  "language_info": {
   "codemirror_mode": {
    "name": "ipython",
    "version": 3
   },
   "file_extension": ".py",
   "mimetype": "text/x-python",
   "name": "python",
   "nbconvert_exporter": "python",
   "pygments_lexer": "ipython3",
   "version": "3.11.4"
  },
  "toc": {
   "base_numbering": 1,
   "nav_menu": {
    "height": "146px",
    "width": "355px"
   },
   "number_sections": true,
   "sideBar": true,
   "skip_h1_title": false,
   "title_cell": "Table of Contents",
   "title_sidebar": "Contents",
   "toc_cell": false,
   "toc_position": {},
   "toc_section_display": true,
   "toc_window_display": false
  }
 },
 "nbformat": 4,
 "nbformat_minor": 5
}
