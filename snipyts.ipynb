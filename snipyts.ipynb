{
 "cells": [
  {
   "cell_type": "markdown",
   "id": "7a7f5ce5",
   "metadata": {},
   "source": [
    "# SniPyts"
   ]
  },
  {
   "cell_type": "markdown",
   "id": "e771d484",
   "metadata": {},
   "source": [
    "## Guess The Number"
   ]
  },
  {
   "cell_type": "code",
   "execution_count": 36,
   "id": "d0937369",
   "metadata": {},
   "outputs": [
    {
     "name": "stdout",
     "output_type": "stream",
     "text": [
      "Too high\n",
      "Too high\n",
      "You guessed it right\n"
     ]
    }
   ],
   "source": [
    "# Guess the number\n",
    "import random\n",
    "\n",
    "n = random.randrange(1, 10)\n",
    "guess = int(input(\"Enter any number between 1 & 10: \"))\n",
    "while n != guess:\n",
    "    if guess < n:\n",
    "        print(\" Too low\")\n",
    "        guess = int(input(\"Enter number again: \"))\n",
    "    elif guess > n:\n",
    "        print(\"Too high\")\n",
    "        guess = int(input(\"Enter number again: \"))\n",
    "    else: \n",
    "        break\n",
    "print(\"You guessed it right\")"
   ]
  },
  {
   "cell_type": "markdown",
   "id": "ee129708",
   "metadata": {},
   "source": [
    "## Calculate Mean, Median and Mode"
   ]
  },
  {
   "cell_type": "code",
   "execution_count": 37,
   "id": "06512a1f",
   "metadata": {},
   "outputs": [
    {
     "name": "stdout",
     "output_type": "stream",
     "text": [
      "Mean of [19, 13, 19, 16, 21, 17, 22, 10, 11, 23]: 17.1\n",
      "Median of [11, 12, 15, 19, 20, 24, 26, 27, 28, 28]: 22.0\n",
      "Mode of [12, 16, 20, 20, 12, 30, 25, 23, 24, 20]: 20\n",
      "Mode of [12, 16, 20, 20, 12, 30, 25, 23, 24, 20]: 20\n"
     ]
    }
   ],
   "source": [
    "# Calculate mean, median and mode\n",
    "import random\n",
    "\n",
    "# Mean\n",
    "list = [random.randrange(10, 30) for i in range(10)]\n",
    "mean = sum(list)/len(list)\n",
    "print(f\"Mean of {list}: {mean}\")\n",
    "\n",
    "# Median \n",
    "list = [random.randrange(10, 30) for i in range(10)]\n",
    "list.sort()\n",
    "if len(list) % 2 == 0:\n",
    "    m1 = list[len(list)//2]\n",
    "    m2 = list[len(list)//2 - 1]\n",
    "    median = (m1 + m2)/2\n",
    "else:\n",
    "    median = list[len(list)//2]\n",
    "print(f\"Median of {list}: {median}\")\n",
    "\n",
    "# Mode\n",
    "list = [12, 16, 20, 20, 12, 30, 25, 23, 24, 20]\n",
    "frequency = {}\n",
    "for i in list:\n",
    "    frequency.setdefault(i, 0)\n",
    "    frequency[i] += 1\n",
    "\n",
    "frequent = max(frequency.values())\n",
    "for i, j in frequency.items():\n",
    "    if j == frequent:\n",
    "        mode = i\n",
    "print(f\"Mode of {list}: {mode}\")\n",
    "\n",
    "# Mode: Simpler code with dictionary comprehension\n",
    "list = [12, 16, 20, 20, 12, 30, 25, 23, 24, 20]\n",
    "freq = {key: list.count(key) for key in list} \n",
    "mode = max(freq, key=freq.get)\n",
    "print(f\"Mode of {list}: {mode}\")\n"
   ]
  },
  {
   "cell_type": "markdown",
   "id": "a7ebffcf",
   "metadata": {},
   "source": [
    "## Authenticate Password"
   ]
  },
  {
   "cell_type": "code",
   "execution_count": 38,
   "id": "e1b8d660",
   "metadata": {},
   "outputs": [
    {
     "name": "stdout",
     "output_type": "stream",
     "text": [
      "User doesn't exist!\n"
     ]
    }
   ],
   "source": [
    "# Authenticate password\n",
    "import getpass\n",
    "\n",
    "database = {\"ravi.billa\": \"123456\", \"billa.ravi\": \"654321\"}\n",
    "username = input(\"Enter your username: \")\n",
    "\n",
    "if username in database.keys():\n",
    "    password = getpass.getpass(\"Enter your password: \")\n",
    "    \n",
    "    for user, pwd in database.items():\n",
    "         if username == user:\n",
    "                while password != database.get(user):\n",
    "                    password = getpass.getpass(\"Incorrect password! \\nEnter your password again: \")\n",
    "                break\n",
    "    print(\"User verfied !\")\n",
    "else:\n",
    "    print(\"User doesn't exist!\")"
   ]
  },
  {
   "cell_type": "markdown",
   "id": "49986d3d",
   "metadata": {
    "code_folding": []
   },
   "source": [
    "## Send Email"
   ]
  },
  {
   "cell_type": "code",
   "execution_count": 39,
   "id": "838ee07e",
   "metadata": {},
   "outputs": [
    {
     "ename": "SMTPAuthenticationError",
     "evalue": "(535, b'5.7.8 Username and Password not accepted. For more information, go to\\n5.7.8  https://support.google.com/mail/?p=BadCredentials d8-20020a170903230800b001db5bdd5e33sm7410987plh.48 - gsmtp')",
     "output_type": "error",
     "traceback": [
      "\u001b[0;31m---------------------------------------------------------------------------\u001b[0m",
      "\u001b[0;31mSMTPAuthenticationError\u001b[0m                   Traceback (most recent call last)",
      "Cell \u001b[0;32mIn[39], line 16\u001b[0m\n\u001b[1;32m     13\u001b[0m     s\u001b[38;5;241m.\u001b[39msendmail(\u001b[38;5;124m'\u001b[39m\u001b[38;5;124m&&&&&&&\u001b[39m\u001b[38;5;124m'\u001b[39m, email, message)\n\u001b[1;32m     14\u001b[0m     \u001b[38;5;28mprint\u001b[39m(\u001b[38;5;124m\"\u001b[39m\u001b[38;5;124mEmail sent\u001b[39m\u001b[38;5;124m\"\u001b[39m)\n\u001b[0;32m---> 16\u001b[0m \u001b[43msend_email\u001b[49m\u001b[43m(\u001b[49m\u001b[43m)\u001b[49m\n",
      "Cell \u001b[0;32mIn[39], line 12\u001b[0m, in \u001b[0;36msend_email\u001b[0;34m()\u001b[0m\n\u001b[1;32m     10\u001b[0m s \u001b[38;5;241m=\u001b[39m smtplib\u001b[38;5;241m.\u001b[39mSMTP(\u001b[38;5;124m'\u001b[39m\u001b[38;5;124msmtp.gmail.com\u001b[39m\u001b[38;5;124m'\u001b[39m, \u001b[38;5;241m587\u001b[39m)\n\u001b[1;32m     11\u001b[0m s\u001b[38;5;241m.\u001b[39mstarttls()\n\u001b[0;32m---> 12\u001b[0m \u001b[43ms\u001b[49m\u001b[38;5;241;43m.\u001b[39;49m\u001b[43mlogin\u001b[49m\u001b[43m(\u001b[49m\u001b[38;5;124;43m\"\u001b[39;49m\u001b[38;5;124;43mYour Gmail Account\u001b[39;49m\u001b[38;5;124;43m\"\u001b[39;49m\u001b[43m,\u001b[49m\u001b[43m \u001b[49m\u001b[38;5;124;43m\"\u001b[39;49m\u001b[38;5;124;43mYour App Password\u001b[39;49m\u001b[38;5;124;43m\"\u001b[39;49m\u001b[43m)\u001b[49m\n\u001b[1;32m     13\u001b[0m s\u001b[38;5;241m.\u001b[39msendmail(\u001b[38;5;124m'\u001b[39m\u001b[38;5;124m&&&&&&&\u001b[39m\u001b[38;5;124m'\u001b[39m, email, message)\n\u001b[1;32m     14\u001b[0m \u001b[38;5;28mprint\u001b[39m(\u001b[38;5;124m\"\u001b[39m\u001b[38;5;124mEmail sent\u001b[39m\u001b[38;5;124m\"\u001b[39m)\n",
      "File \u001b[0;32m~/.pyenv/versions/3.11.4/lib/python3.11/smtplib.py:750\u001b[0m, in \u001b[0;36mSMTP.login\u001b[0;34m(self, user, password, initial_response_ok)\u001b[0m\n\u001b[1;32m    747\u001b[0m         last_exception \u001b[38;5;241m=\u001b[39m e\n\u001b[1;32m    749\u001b[0m \u001b[38;5;66;03m# We could not login successfully.  Return result of last attempt.\u001b[39;00m\n\u001b[0;32m--> 750\u001b[0m \u001b[38;5;28;01mraise\u001b[39;00m last_exception\n",
      "File \u001b[0;32m~/.pyenv/versions/3.11.4/lib/python3.11/smtplib.py:739\u001b[0m, in \u001b[0;36mSMTP.login\u001b[0;34m(self, user, password, initial_response_ok)\u001b[0m\n\u001b[1;32m    737\u001b[0m method_name \u001b[38;5;241m=\u001b[39m \u001b[38;5;124m'\u001b[39m\u001b[38;5;124mauth_\u001b[39m\u001b[38;5;124m'\u001b[39m \u001b[38;5;241m+\u001b[39m authmethod\u001b[38;5;241m.\u001b[39mlower()\u001b[38;5;241m.\u001b[39mreplace(\u001b[38;5;124m'\u001b[39m\u001b[38;5;124m-\u001b[39m\u001b[38;5;124m'\u001b[39m, \u001b[38;5;124m'\u001b[39m\u001b[38;5;124m_\u001b[39m\u001b[38;5;124m'\u001b[39m)\n\u001b[1;32m    738\u001b[0m \u001b[38;5;28;01mtry\u001b[39;00m:\n\u001b[0;32m--> 739\u001b[0m     (code, resp) \u001b[38;5;241m=\u001b[39m \u001b[38;5;28;43mself\u001b[39;49m\u001b[38;5;241;43m.\u001b[39;49m\u001b[43mauth\u001b[49m\u001b[43m(\u001b[49m\n\u001b[1;32m    740\u001b[0m \u001b[43m        \u001b[49m\u001b[43mauthmethod\u001b[49m\u001b[43m,\u001b[49m\u001b[43m \u001b[49m\u001b[38;5;28;43mgetattr\u001b[39;49m\u001b[43m(\u001b[49m\u001b[38;5;28;43mself\u001b[39;49m\u001b[43m,\u001b[49m\u001b[43m \u001b[49m\u001b[43mmethod_name\u001b[49m\u001b[43m)\u001b[49m\u001b[43m,\u001b[49m\n\u001b[1;32m    741\u001b[0m \u001b[43m        \u001b[49m\u001b[43minitial_response_ok\u001b[49m\u001b[38;5;241;43m=\u001b[39;49m\u001b[43minitial_response_ok\u001b[49m\u001b[43m)\u001b[49m\n\u001b[1;32m    742\u001b[0m     \u001b[38;5;66;03m# 235 == 'Authentication successful'\u001b[39;00m\n\u001b[1;32m    743\u001b[0m     \u001b[38;5;66;03m# 503 == 'Error: already authenticated'\u001b[39;00m\n\u001b[1;32m    744\u001b[0m     \u001b[38;5;28;01mif\u001b[39;00m code \u001b[38;5;129;01min\u001b[39;00m (\u001b[38;5;241m235\u001b[39m, \u001b[38;5;241m503\u001b[39m):\n",
      "File \u001b[0;32m~/.pyenv/versions/3.11.4/lib/python3.11/smtplib.py:662\u001b[0m, in \u001b[0;36mSMTP.auth\u001b[0;34m(self, mechanism, authobject, initial_response_ok)\u001b[0m\n\u001b[1;32m    660\u001b[0m \u001b[38;5;28;01mif\u001b[39;00m code \u001b[38;5;129;01min\u001b[39;00m (\u001b[38;5;241m235\u001b[39m, \u001b[38;5;241m503\u001b[39m):\n\u001b[1;32m    661\u001b[0m     \u001b[38;5;28;01mreturn\u001b[39;00m (code, resp)\n\u001b[0;32m--> 662\u001b[0m \u001b[38;5;28;01mraise\u001b[39;00m SMTPAuthenticationError(code, resp)\n",
      "\u001b[0;31mSMTPAuthenticationError\u001b[0m: (535, b'5.7.8 Username and Password not accepted. For more information, go to\\n5.7.8  https://support.google.com/mail/?p=BadCredentials d8-20020a170903230800b001db5bdd5e33sm7410987plh.48 - gsmtp')"
     ]
    }
   ],
   "source": [
    "# Send email\n",
    "import os\n",
    "import random\n",
    "import smtplib\n",
    "\n",
    "def send_email():\n",
    "    user = input(\"Enter your name >>\")\n",
    "    email = input(\"Enter your e-mail >>\")\n",
    "    message = (f\"Dear {user}, weclome to snipyts\")\n",
    "    s = smtplib.SMTP('smtp.gmail.com', 587)\n",
    "    s.starttls()\n",
    "    s.login(\"Your Gmail Account\", \"Your App Password\")\n",
    "    s.sendmail('&&&&&&&', email, message)\n",
    "    print(\"Email sent\")\n",
    "\n",
    "send_email()\n"
   ]
  },
  {
   "cell_type": "markdown",
   "id": "d75c6bae",
   "metadata": {},
   "source": [
    "## "
   ]
  },
  {
   "cell_type": "markdown",
   "id": "1037b81d",
   "metadata": {},
   "source": [
    "## Calculate Age"
   ]
  },
  {
   "cell_type": "code",
   "execution_count": 40,
   "id": "1bf961a6",
   "metadata": {},
   "outputs": [
    {
     "name": "stdout",
     "output_type": "stream",
     "text": [
      "Your age is: 42\n"
     ]
    }
   ],
   "source": [
    "# Calculate age\n",
    "import datetime\n",
    "\n",
    "def calc_age(y, m, d):\n",
    "    today = datetime.datetime.now().date()\n",
    "    dob = datetime.date(y, m, d)\n",
    "    age = int((today - dob).days/365.25)\n",
    "    print(f\"Your age is: {age}\")\n",
    "\n",
    "calc_age(1981, 7, 15)"
   ]
  },
  {
   "cell_type": "markdown",
   "id": "1f763fea",
   "metadata": {},
   "source": [
    "## Group Anagrams"
   ]
  },
  {
   "cell_type": "code",
   "execution_count": 3,
   "id": "4fb990e2",
   "metadata": {},
   "outputs": [],
   "source": [
    "from collections import defaultdict\n",
    "dfdict = defaultdict()"
   ]
  },
  {
   "cell_type": "code",
   "execution_count": 5,
   "id": "00610645",
   "metadata": {},
   "outputs": [
    {
     "name": "stdout",
     "output_type": "stream",
     "text": [
      "Grouped anagrams: dict_values([['tea', 'eat', 'ate'], ['bat'], ['arc', 'car']])\n"
     ]
    }
   ],
   "source": [
    "# Group anagrams\n",
    "from collections import defaultdict\n",
    "\n",
    "def group_anagrams(words):\n",
    "    dfdict = defaultdict(list)\n",
    "    for w in words:\n",
    "        sorted_word = \"\".join(sorted(w))\n",
    "        dfdict[sorted_word].append(w)\n",
    "    \n",
    "    return dfdict.values()\n",
    "\n",
    "words = [\"tea\", \"eat\", \"bat\", \"ate\", \"arc\", \"car\"]\n",
    "print(f\"Grouped anagrams: {group_anagrams(words)}\")\n"
   ]
  },
  {
   "cell_type": "markdown",
   "id": "a2b14704",
   "metadata": {},
   "source": [
    "## Find Missing Numbers"
   ]
  },
  {
   "cell_type": "code",
   "execution_count": 8,
   "id": "b53df5f5",
   "metadata": {},
   "outputs": [
    {
     "name": "stdout",
     "output_type": "stream",
     "text": [
      "Missing numbers in the list: [4, 7, 11, 13, 14, 15]\n"
     ]
    }
   ],
   "source": [
    "# Find missing numbers\n",
    "def find_missing_numbers(lst):\n",
    "    nums = set(lst)\n",
    "    missing_nums = []\n",
    "    for i in range(min(lst), max(lst)):\n",
    "        if i not in nums:\n",
    "            missing_nums.append(i)\n",
    "    \n",
    "    return missing_nums\n",
    "\n",
    "num_list = [1, 2, 3, 5, 6, 8, 9, 10, 12, 16]    \n",
    "print(f\"Missing numbers in the list: {find_missing_numbers(num_list)}\")\n"
   ]
  },
  {
   "cell_type": "markdown",
   "id": "2fcb6747",
   "metadata": {},
   "source": [
    "## Group Elements by Index"
   ]
  },
  {
   "cell_type": "code",
   "execution_count": 52,
   "id": "52a22cf4",
   "metadata": {},
   "outputs": [
    {
     "name": "stdout",
     "output_type": "stream",
     "text": [
      "Grouped elements by index: [[10, 40, 70], [20, 50, 80], [30, 60, 90]]\n"
     ]
    }
   ],
   "source": [
    "# Group elements by index\n",
    "def group_elements_by_index(inputLists):\n",
    "    outputLists = []\n",
    "    for j in range(len(inputLists[0])):\n",
    "        outputLists.append([])\n",
    "        for i in range (len(inputLists)):\n",
    "            outputLists[j].append(inputLists[i][j])\n",
    "    \n",
    "    return(outputLists)\n",
    "\n",
    "Lists = [[10, 20, 30], [40, 50, 60], [70, 80, 90]]\n",
    "print(f\"Grouped elements by index: {group_elements_by_index(Lists)}\")\n"
   ]
  },
  {
   "cell_type": "markdown",
   "id": "8e75d2e5",
   "metadata": {},
   "source": [
    "## Calculate Code Execution Time"
   ]
  },
  {
   "cell_type": "code",
   "execution_count": 77,
   "id": "91cbbc03",
   "metadata": {},
   "outputs": [
    {
     "name": "stdout",
     "output_type": "stream",
     "text": [
      "[[205 194 265 280 240 230 248  90 250 271]\n",
      " [213 192 160 157 189 117 197 121 238 247]\n",
      " [179 144 190 221 161 146 163 117 225 254]\n",
      " [251 169 255 298 236 239 294 193 335 368]\n",
      " [238 205 245 283 252 213 210 155 253 247]\n",
      " [204 110 218 271 202 228 208 180 263 277]\n",
      " [155 196 150 185 155 143 149  65 152 198]\n",
      " [203 174 199 255 194 168 231 105 205 246]\n",
      " [261 223 255 305 275 209 232 144 270 274]\n",
      " [181 148 175 197 201 179 184  73 188 232]]\n",
      "Code executioin time: 0.94 ms\n"
     ]
    }
   ],
   "source": [
    "# Calculate code execution time\n",
    "from time import time\n",
    "import numpy as np\n",
    "\n",
    "start = time()\n",
    "# Sample matrix mulitplication code\n",
    "a = np.random.randint(10, size=(10, 10))\n",
    "b = np.random.randint(10, size=(10, 10))\n",
    "c = np.matmul(a, b)\n",
    "print(c)\n",
    "end = time()\n",
    "\n",
    "print(f\"Code executioin time: {round((end - start)*1000, 2)} ms\")\n"
   ]
  },
  {
   "cell_type": "markdown",
   "id": "7ac3b5a5",
   "metadata": {},
   "source": [
    "## Count Number of Words in a Column"
   ]
  },
  {
   "cell_type": "code",
   "execution_count": 1,
   "id": "d22e939b",
   "metadata": {},
   "outputs": [
    {
     "name": "stdout",
     "output_type": "stream",
     "text": [
      "   PassengerId  Survived  Pclass  \\\n",
      "0            1         0       3   \n",
      "1            2         1       1   \n",
      "2            3         1       3   \n",
      "3            4         1       1   \n",
      "4            5         0       3   \n",
      "\n",
      "                                                Name     Sex   Age  SibSp  \\\n",
      "0                            Braund, Mr. Owen Harris    male  22.0      1   \n",
      "1  Cumings, Mrs. John Bradley (Florence Briggs Th...  female  38.0      1   \n",
      "2                             Heikkinen, Miss. Laina  female  26.0      0   \n",
      "3       Futrelle, Mrs. Jacques Heath (Lily May Peel)  female  35.0      1   \n",
      "4                           Allen, Mr. William Henry    male  35.0      0   \n",
      "\n",
      "   Parch            Ticket     Fare Cabin Embarked  \n",
      "0      0         A/5 21171   7.2500   NaN        S  \n",
      "1      0          PC 17599  71.2833   C85        C  \n",
      "2      0  STON/O2. 3101282   7.9250   NaN        S  \n",
      "3      0            113803  53.1000  C123        S  \n",
      "4      0            373450   8.0500   NaN        S  \n",
      "                                                  Name  # Words\n",
      "0                              Braund, Mr. Owen Harris        4\n",
      "1    Cumings, Mrs. John Bradley (Florence Briggs Th...        7\n",
      "2                               Heikkinen, Miss. Laina        3\n",
      "3         Futrelle, Mrs. Jacques Heath (Lily May Peel)        7\n",
      "4                             Allen, Mr. William Henry        4\n",
      "..                                                 ...      ...\n",
      "886                              Montvila, Rev. Juozas        3\n",
      "887                       Graham, Miss. Margaret Edith        4\n",
      "888           Johnston, Miss. Catherine Helen \"Carrie\"        5\n",
      "889                              Behr, Mr. Karl Howell        4\n",
      "890                                Dooley, Mr. Patrick        3\n",
      "\n",
      "[891 rows x 2 columns]\n"
     ]
    }
   ],
   "source": [
    "# Count number of words in a column\n",
    "import pandas as pd\n",
    "\n",
    "data = pd.read_csv(\"https://raw.githubusercontent.com/ravibilla/datasets/main/titanic.csv\", encoding='latin1')\n",
    "print(data.head())\n",
    "\n",
    "data['# Words'] = data[\"Name\"].apply(lambda x: len(x.split()))\n",
    "print(data[['Name', '# Words']])\n"
   ]
  },
  {
   "cell_type": "markdown",
   "id": "4e60596a",
   "metadata": {},
   "source": [
    "## Rock, Paper, Scissors"
   ]
  },
  {
   "cell_type": "code",
   "execution_count": 2,
   "id": "30dffb79",
   "metadata": {},
   "outputs": [
    {
     "name": "stdout",
     "output_type": "stream",
     "text": [
      "It's a Tie!\n"
     ]
    }
   ],
   "source": [
    "# Rock, paper, scissors\n",
    "import random\n",
    "\n",
    "player1 = ''\n",
    "while player1 not in [\"rock\", \"paper\", \"scissor\"]:\n",
    "    player1 = input(\"Enter Rock, Paper or Scissor: \").lower()\n",
    "\n",
    "player2 = random.choice([\"rock\", \"paper\", \"scissor\"])\n",
    "\n",
    "if player1 == \"rock\" and player2 == \"paper\":\n",
    "    print(\"Paper beats Rock: Player 2 Won!\")\n",
    "elif player1 == \"paper\" and player2 == \"scissor\":\n",
    "    print(\"Scissor beats Paper: Player 2 Won!\")\n",
    "elif player1 == \"scissor\" and player2 == \"rock\":\n",
    "    print(\"Rock beats Scissor: Player 2 Won!\")\n",
    "elif player1 == player2:\n",
    "    print(\"It's a Tie!\")\n",
    "else:\n",
    "    print(\"Player 1 Won!\")"
   ]
  },
  {
   "cell_type": "code",
   "execution_count": null,
   "id": "f41a7cac",
   "metadata": {},
   "outputs": [],
   "source": []
  },
  {
   "cell_type": "code",
   "execution_count": null,
   "id": "c139b675",
   "metadata": {},
   "outputs": [],
   "source": []
  }
 ],
 "metadata": {
  "kernelspec": {
   "display_name": "Python 3 (ipykernel)",
   "language": "python",
   "name": "python3"
  },
  "language_info": {
   "codemirror_mode": {
    "name": "ipython",
    "version": 3
   },
   "file_extension": ".py",
   "mimetype": "text/x-python",
   "name": "python",
   "nbconvert_exporter": "python",
   "pygments_lexer": "ipython3",
   "version": "3.11.4"
  },
  "toc": {
   "base_numbering": 1,
   "nav_menu": {
    "height": "146px",
    "width": "355px"
   },
   "number_sections": true,
   "sideBar": true,
   "skip_h1_title": false,
   "title_cell": "Table of Contents",
   "title_sidebar": "Contents",
   "toc_cell": false,
   "toc_position": {},
   "toc_section_display": true,
   "toc_window_display": false
  }
 },
 "nbformat": 4,
 "nbformat_minor": 5
}
