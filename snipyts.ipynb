{
 "cells": [
  {
   "cell_type": "markdown",
   "id": "7a7f5ce5",
   "metadata": {},
   "source": [
    "# SniPyts"
   ]
  },
  {
   "cell_type": "markdown",
   "id": "e771d484",
   "metadata": {},
   "source": [
    "## Guess The Number"
   ]
  },
  {
   "cell_type": "code",
   "execution_count": 36,
   "id": "d0937369",
   "metadata": {},
   "outputs": [
    {
     "name": "stdout",
     "output_type": "stream",
     "text": [
      "Too high\n",
      "Too high\n",
      "You guessed it right\n"
     ]
    }
   ],
   "source": [
    "# Guess the number\n",
    "import random\n",
    "\n",
    "n = random.randrange(1, 10)\n",
    "guess = int(input(\"Enter any number between 1 & 10: \"))\n",
    "while n != guess:\n",
    "    if guess < n:\n",
    "        print(\" Too low\")\n",
    "        guess = int(input(\"Enter number again: \"))\n",
    "    elif guess > n:\n",
    "        print(\"Too high\")\n",
    "        guess = int(input(\"Enter number again: \"))\n",
    "    else: \n",
    "        break\n",
    "print(\"You guessed it right\")"
   ]
  },
  {
   "cell_type": "markdown",
   "id": "ee129708",
   "metadata": {},
   "source": [
    "## Calculate Mean, Median and Mode"
   ]
  },
  {
   "cell_type": "code",
   "execution_count": 37,
   "id": "06512a1f",
   "metadata": {},
   "outputs": [
    {
     "name": "stdout",
     "output_type": "stream",
     "text": [
      "Mean of [19, 13, 19, 16, 21, 17, 22, 10, 11, 23]: 17.1\n",
      "Median of [11, 12, 15, 19, 20, 24, 26, 27, 28, 28]: 22.0\n",
      "Mode of [12, 16, 20, 20, 12, 30, 25, 23, 24, 20]: 20\n",
      "Mode of [12, 16, 20, 20, 12, 30, 25, 23, 24, 20]: 20\n"
     ]
    }
   ],
   "source": [
    "# Calculate mean, median and mode\n",
    "import random\n",
    "\n",
    "# Mean\n",
    "list = [random.randrange(10, 30) for i in range(10)]\n",
    "mean = sum(list)/len(list)\n",
    "print(f\"Mean of {list}: {mean}\")\n",
    "\n",
    "# Median \n",
    "list = [random.randrange(10, 30) for i in range(10)]\n",
    "list.sort()\n",
    "if len(list) % 2 == 0:\n",
    "    m1 = list[len(list)//2]\n",
    "    m2 = list[len(list)//2 - 1]\n",
    "    median = (m1 + m2)/2\n",
    "else:\n",
    "    median = list[len(list)//2]\n",
    "print(f\"Median of {list}: {median}\")\n",
    "\n",
    "# Mode\n",
    "list = [12, 16, 20, 20, 12, 30, 25, 23, 24, 20]\n",
    "frequency = {}\n",
    "for i in list:\n",
    "    frequency.setdefault(i, 0)\n",
    "    frequency[i] += 1\n",
    "\n",
    "frequent = max(frequency.values())\n",
    "for i, j in frequency.items():\n",
    "    if j == frequent:\n",
    "        mode = i\n",
    "print(f\"Mode of {list}: {mode}\")\n",
    "\n",
    "# Mode: Simpler code with dictionary comprehension\n",
    "list = [12, 16, 20, 20, 12, 30, 25, 23, 24, 20]\n",
    "freq = {key: list.count(key) for key in list} \n",
    "mode = max(freq, key=freq.get)\n",
    "print(f\"Mode of {list}: {mode}\")\n"
   ]
  },
  {
   "cell_type": "markdown",
   "id": "a7ebffcf",
   "metadata": {},
   "source": [
    "## Authenticate Password"
   ]
  },
  {
   "cell_type": "code",
   "execution_count": 38,
   "id": "e1b8d660",
   "metadata": {},
   "outputs": [
    {
     "name": "stdout",
     "output_type": "stream",
     "text": [
      "User doesn't exist!\n"
     ]
    }
   ],
   "source": [
    "# Authenticate password\n",
    "import getpass\n",
    "\n",
    "database = {\"ravi.billa\": \"123456\", \"billa.ravi\": \"654321\"}\n",
    "username = input(\"Enter your username: \")\n",
    "\n",
    "if username in database.keys():\n",
    "    password = getpass.getpass(\"Enter your password: \")\n",
    "    \n",
    "    for user, pwd in database.items():\n",
    "         if username == user:\n",
    "                while password != database.get(user):\n",
    "                    password = getpass.getpass(\"Incorrect password! \\nEnter your password again: \")\n",
    "                break\n",
    "    print(\"User verfied !\")\n",
    "else:\n",
    "    print(\"User doesn't exist!\")"
   ]
  },
  {
   "cell_type": "markdown",
   "id": "49986d3d",
   "metadata": {
    "code_folding": []
   },
   "source": [
    "## Send Email"
   ]
  },
  {
   "cell_type": "code",
   "execution_count": 39,
   "id": "838ee07e",
   "metadata": {},
   "outputs": [
    {
     "ename": "SMTPAuthenticationError",
     "evalue": "(535, b'5.7.8 Username and Password not accepted. For more information, go to\\n5.7.8  https://support.google.com/mail/?p=BadCredentials d8-20020a170903230800b001db5bdd5e33sm7410987plh.48 - gsmtp')",
     "output_type": "error",
     "traceback": [
      "\u001b[0;31m---------------------------------------------------------------------------\u001b[0m",
      "\u001b[0;31mSMTPAuthenticationError\u001b[0m                   Traceback (most recent call last)",
      "Cell \u001b[0;32mIn[39], line 16\u001b[0m\n\u001b[1;32m     13\u001b[0m     s\u001b[38;5;241m.\u001b[39msendmail(\u001b[38;5;124m'\u001b[39m\u001b[38;5;124m&&&&&&&\u001b[39m\u001b[38;5;124m'\u001b[39m, email, message)\n\u001b[1;32m     14\u001b[0m     \u001b[38;5;28mprint\u001b[39m(\u001b[38;5;124m\"\u001b[39m\u001b[38;5;124mEmail sent\u001b[39m\u001b[38;5;124m\"\u001b[39m)\n\u001b[0;32m---> 16\u001b[0m \u001b[43msend_email\u001b[49m\u001b[43m(\u001b[49m\u001b[43m)\u001b[49m\n",
      "Cell \u001b[0;32mIn[39], line 12\u001b[0m, in \u001b[0;36msend_email\u001b[0;34m()\u001b[0m\n\u001b[1;32m     10\u001b[0m s \u001b[38;5;241m=\u001b[39m smtplib\u001b[38;5;241m.\u001b[39mSMTP(\u001b[38;5;124m'\u001b[39m\u001b[38;5;124msmtp.gmail.com\u001b[39m\u001b[38;5;124m'\u001b[39m, \u001b[38;5;241m587\u001b[39m)\n\u001b[1;32m     11\u001b[0m s\u001b[38;5;241m.\u001b[39mstarttls()\n\u001b[0;32m---> 12\u001b[0m \u001b[43ms\u001b[49m\u001b[38;5;241;43m.\u001b[39;49m\u001b[43mlogin\u001b[49m\u001b[43m(\u001b[49m\u001b[38;5;124;43m\"\u001b[39;49m\u001b[38;5;124;43mYour Gmail Account\u001b[39;49m\u001b[38;5;124;43m\"\u001b[39;49m\u001b[43m,\u001b[49m\u001b[43m \u001b[49m\u001b[38;5;124;43m\"\u001b[39;49m\u001b[38;5;124;43mYour App Password\u001b[39;49m\u001b[38;5;124;43m\"\u001b[39;49m\u001b[43m)\u001b[49m\n\u001b[1;32m     13\u001b[0m s\u001b[38;5;241m.\u001b[39msendmail(\u001b[38;5;124m'\u001b[39m\u001b[38;5;124m&&&&&&&\u001b[39m\u001b[38;5;124m'\u001b[39m, email, message)\n\u001b[1;32m     14\u001b[0m \u001b[38;5;28mprint\u001b[39m(\u001b[38;5;124m\"\u001b[39m\u001b[38;5;124mEmail sent\u001b[39m\u001b[38;5;124m\"\u001b[39m)\n",
      "File \u001b[0;32m~/.pyenv/versions/3.11.4/lib/python3.11/smtplib.py:750\u001b[0m, in \u001b[0;36mSMTP.login\u001b[0;34m(self, user, password, initial_response_ok)\u001b[0m\n\u001b[1;32m    747\u001b[0m         last_exception \u001b[38;5;241m=\u001b[39m e\n\u001b[1;32m    749\u001b[0m \u001b[38;5;66;03m# We could not login successfully.  Return result of last attempt.\u001b[39;00m\n\u001b[0;32m--> 750\u001b[0m \u001b[38;5;28;01mraise\u001b[39;00m last_exception\n",
      "File \u001b[0;32m~/.pyenv/versions/3.11.4/lib/python3.11/smtplib.py:739\u001b[0m, in \u001b[0;36mSMTP.login\u001b[0;34m(self, user, password, initial_response_ok)\u001b[0m\n\u001b[1;32m    737\u001b[0m method_name \u001b[38;5;241m=\u001b[39m \u001b[38;5;124m'\u001b[39m\u001b[38;5;124mauth_\u001b[39m\u001b[38;5;124m'\u001b[39m \u001b[38;5;241m+\u001b[39m authmethod\u001b[38;5;241m.\u001b[39mlower()\u001b[38;5;241m.\u001b[39mreplace(\u001b[38;5;124m'\u001b[39m\u001b[38;5;124m-\u001b[39m\u001b[38;5;124m'\u001b[39m, \u001b[38;5;124m'\u001b[39m\u001b[38;5;124m_\u001b[39m\u001b[38;5;124m'\u001b[39m)\n\u001b[1;32m    738\u001b[0m \u001b[38;5;28;01mtry\u001b[39;00m:\n\u001b[0;32m--> 739\u001b[0m     (code, resp) \u001b[38;5;241m=\u001b[39m \u001b[38;5;28;43mself\u001b[39;49m\u001b[38;5;241;43m.\u001b[39;49m\u001b[43mauth\u001b[49m\u001b[43m(\u001b[49m\n\u001b[1;32m    740\u001b[0m \u001b[43m        \u001b[49m\u001b[43mauthmethod\u001b[49m\u001b[43m,\u001b[49m\u001b[43m \u001b[49m\u001b[38;5;28;43mgetattr\u001b[39;49m\u001b[43m(\u001b[49m\u001b[38;5;28;43mself\u001b[39;49m\u001b[43m,\u001b[49m\u001b[43m \u001b[49m\u001b[43mmethod_name\u001b[49m\u001b[43m)\u001b[49m\u001b[43m,\u001b[49m\n\u001b[1;32m    741\u001b[0m \u001b[43m        \u001b[49m\u001b[43minitial_response_ok\u001b[49m\u001b[38;5;241;43m=\u001b[39;49m\u001b[43minitial_response_ok\u001b[49m\u001b[43m)\u001b[49m\n\u001b[1;32m    742\u001b[0m     \u001b[38;5;66;03m# 235 == 'Authentication successful'\u001b[39;00m\n\u001b[1;32m    743\u001b[0m     \u001b[38;5;66;03m# 503 == 'Error: already authenticated'\u001b[39;00m\n\u001b[1;32m    744\u001b[0m     \u001b[38;5;28;01mif\u001b[39;00m code \u001b[38;5;129;01min\u001b[39;00m (\u001b[38;5;241m235\u001b[39m, \u001b[38;5;241m503\u001b[39m):\n",
      "File \u001b[0;32m~/.pyenv/versions/3.11.4/lib/python3.11/smtplib.py:662\u001b[0m, in \u001b[0;36mSMTP.auth\u001b[0;34m(self, mechanism, authobject, initial_response_ok)\u001b[0m\n\u001b[1;32m    660\u001b[0m \u001b[38;5;28;01mif\u001b[39;00m code \u001b[38;5;129;01min\u001b[39;00m (\u001b[38;5;241m235\u001b[39m, \u001b[38;5;241m503\u001b[39m):\n\u001b[1;32m    661\u001b[0m     \u001b[38;5;28;01mreturn\u001b[39;00m (code, resp)\n\u001b[0;32m--> 662\u001b[0m \u001b[38;5;28;01mraise\u001b[39;00m SMTPAuthenticationError(code, resp)\n",
      "\u001b[0;31mSMTPAuthenticationError\u001b[0m: (535, b'5.7.8 Username and Password not accepted. For more information, go to\\n5.7.8  https://support.google.com/mail/?p=BadCredentials d8-20020a170903230800b001db5bdd5e33sm7410987plh.48 - gsmtp')"
     ]
    }
   ],
   "source": [
    "# Send email\n",
    "import os\n",
    "import random\n",
    "import smtplib\n",
    "\n",
    "def send_email():\n",
    "    user = input(\"Enter your name >>\")\n",
    "    email = input(\"Enter your e-mail >>\")\n",
    "    message = (f\"Dear {user}, weclome to snipyts\")\n",
    "    s = smtplib.SMTP('smtp.gmail.com', 587)\n",
    "    s.starttls()\n",
    "    s.login(\"Your Gmail Account\", \"Your App Password\")\n",
    "    s.sendmail('&&&&&&&', email, message)\n",
    "    print(\"Email sent\")\n",
    "\n",
    "send_email()\n"
   ]
  },
  {
   "cell_type": "markdown",
   "id": "d75c6bae",
   "metadata": {},
   "source": [
    "## "
   ]
  },
  {
   "cell_type": "markdown",
   "id": "1037b81d",
   "metadata": {},
   "source": [
    "## Calculate Age"
   ]
  },
  {
   "cell_type": "code",
   "execution_count": 40,
   "id": "1bf961a6",
   "metadata": {},
   "outputs": [
    {
     "name": "stdout",
     "output_type": "stream",
     "text": [
      "Your age is: 42\n"
     ]
    }
   ],
   "source": [
    "# Calculate age\n",
    "import datetime\n",
    "\n",
    "def calc_age(y, m, d):\n",
    "    today = datetime.datetime.now().date()\n",
    "    dob = datetime.date(y, m, d)\n",
    "    age = int((today - dob).days/365.25)\n",
    "    print(f\"Your age is: {age}\")\n",
    "\n",
    "calc_age(1981, 7, 15)"
   ]
  },
  {
   "cell_type": "markdown",
   "id": "1f763fea",
   "metadata": {},
   "source": [
    "## Group Anagrams"
   ]
  },
  {
   "cell_type": "code",
   "execution_count": 3,
   "id": "4fb990e2",
   "metadata": {},
   "outputs": [],
   "source": [
    "from collections import defaultdict\n",
    "dfdict = defaultdict()"
   ]
  },
  {
   "cell_type": "code",
   "execution_count": 5,
   "id": "00610645",
   "metadata": {},
   "outputs": [
    {
     "name": "stdout",
     "output_type": "stream",
     "text": [
      "Grouped anagrams: dict_values([['tea', 'eat', 'ate'], ['bat'], ['arc', 'car']])\n"
     ]
    }
   ],
   "source": [
    "# Group anagrams\n",
    "from collections import defaultdict\n",
    "\n",
    "def group_anagrams(words):\n",
    "    dfdict = defaultdict(list)\n",
    "    for w in words:\n",
    "        sorted_word = \"\".join(sorted(w))\n",
    "        dfdict[sorted_word].append(w)\n",
    "    \n",
    "    return dfdict.values()\n",
    "\n",
    "words = [\"tea\", \"eat\", \"bat\", \"ate\", \"arc\", \"car\"]\n",
    "print(f\"Grouped anagrams: {group_anagrams(words)}\")\n"
   ]
  },
  {
   "cell_type": "markdown",
   "id": "a2b14704",
   "metadata": {},
   "source": [
    "## Find Missing Numbers"
   ]
  },
  {
   "cell_type": "code",
   "execution_count": 8,
   "id": "b53df5f5",
   "metadata": {},
   "outputs": [
    {
     "name": "stdout",
     "output_type": "stream",
     "text": [
      "Missing numbers in the list: [4, 7, 11, 13, 14, 15]\n"
     ]
    }
   ],
   "source": [
    "# Find missing numbers\n",
    "def find_missing_numbers(lst):\n",
    "    nums = set(lst)\n",
    "    missing_nums = []\n",
    "    for i in range(min(lst), max(lst)):\n",
    "        if i not in nums:\n",
    "            missing_nums.append(i)\n",
    "    \n",
    "    return missing_nums\n",
    "\n",
    "num_list = [1, 2, 3, 5, 6, 8, 9, 10, 12, 16]    \n",
    "print(f\"Missing numbers in the list: {find_missing_numbers(num_list)}\")\n"
   ]
  },
  {
   "cell_type": "markdown",
   "id": "2fcb6747",
   "metadata": {},
   "source": [
    "## Group Elements by Index"
   ]
  },
  {
   "cell_type": "code",
   "execution_count": 52,
   "id": "52a22cf4",
   "metadata": {},
   "outputs": [
    {
     "name": "stdout",
     "output_type": "stream",
     "text": [
      "Grouped elements by index: [[10, 40, 70], [20, 50, 80], [30, 60, 90]]\n"
     ]
    }
   ],
   "source": [
    "# Group elements by index\n",
    "def group_elements_by_index(inputLists):\n",
    "    outputLists = []\n",
    "    for j in range(len(inputLists[0])):\n",
    "        outputLists.append([])\n",
    "        for i in range (len(inputLists)):\n",
    "            outputLists[j].append(inputLists[i][j])\n",
    "    \n",
    "    return(outputLists)\n",
    "\n",
    "Lists = [[10, 20, 30], [40, 50, 60], [70, 80, 90]]\n",
    "print(f\"Grouped elements by index: {group_elements_by_index(Lists)}\")\n"
   ]
  },
  {
   "cell_type": "markdown",
   "id": "8e75d2e5",
   "metadata": {},
   "source": [
    "## Calculate Code Execution Time"
   ]
  },
  {
   "cell_type": "code",
   "execution_count": 77,
   "id": "91cbbc03",
   "metadata": {},
   "outputs": [
    {
     "name": "stdout",
     "output_type": "stream",
     "text": [
      "[[205 194 265 280 240 230 248  90 250 271]\n",
      " [213 192 160 157 189 117 197 121 238 247]\n",
      " [179 144 190 221 161 146 163 117 225 254]\n",
      " [251 169 255 298 236 239 294 193 335 368]\n",
      " [238 205 245 283 252 213 210 155 253 247]\n",
      " [204 110 218 271 202 228 208 180 263 277]\n",
      " [155 196 150 185 155 143 149  65 152 198]\n",
      " [203 174 199 255 194 168 231 105 205 246]\n",
      " [261 223 255 305 275 209 232 144 270 274]\n",
      " [181 148 175 197 201 179 184  73 188 232]]\n",
      "Code executioin time: 0.94 ms\n"
     ]
    }
   ],
   "source": [
    "# Calculate code execution time\n",
    "from time import time\n",
    "import numpy as np\n",
    "\n",
    "start = time()\n",
    "# Sample matrix mulitplication code\n",
    "a = np.random.randint(10, size=(10, 10))\n",
    "b = np.random.randint(10, size=(10, 10))\n",
    "c = np.matmul(a, b)\n",
    "print(c)\n",
    "end = time()\n",
    "\n",
    "print(f\"Code executioin time: {round((end - start)*1000, 2)} ms\")\n"
   ]
  },
  {
   "cell_type": "markdown",
   "id": "7ac3b5a5",
   "metadata": {},
   "source": [
    "## Count Number of Words in a Column"
   ]
  },
  {
   "cell_type": "code",
   "execution_count": 1,
   "id": "d22e939b",
   "metadata": {},
   "outputs": [
    {
     "name": "stdout",
     "output_type": "stream",
     "text": [
      "   PassengerId  Survived  Pclass  \\\n",
      "0            1         0       3   \n",
      "1            2         1       1   \n",
      "2            3         1       3   \n",
      "3            4         1       1   \n",
      "4            5         0       3   \n",
      "\n",
      "                                                Name     Sex   Age  SibSp  \\\n",
      "0                            Braund, Mr. Owen Harris    male  22.0      1   \n",
      "1  Cumings, Mrs. John Bradley (Florence Briggs Th...  female  38.0      1   \n",
      "2                             Heikkinen, Miss. Laina  female  26.0      0   \n",
      "3       Futrelle, Mrs. Jacques Heath (Lily May Peel)  female  35.0      1   \n",
      "4                           Allen, Mr. William Henry    male  35.0      0   \n",
      "\n",
      "   Parch            Ticket     Fare Cabin Embarked  \n",
      "0      0         A/5 21171   7.2500   NaN        S  \n",
      "1      0          PC 17599  71.2833   C85        C  \n",
      "2      0  STON/O2. 3101282   7.9250   NaN        S  \n",
      "3      0            113803  53.1000  C123        S  \n",
      "4      0            373450   8.0500   NaN        S  \n",
      "                                                  Name  # Words\n",
      "0                              Braund, Mr. Owen Harris        4\n",
      "1    Cumings, Mrs. John Bradley (Florence Briggs Th...        7\n",
      "2                               Heikkinen, Miss. Laina        3\n",
      "3         Futrelle, Mrs. Jacques Heath (Lily May Peel)        7\n",
      "4                             Allen, Mr. William Henry        4\n",
      "..                                                 ...      ...\n",
      "886                              Montvila, Rev. Juozas        3\n",
      "887                       Graham, Miss. Margaret Edith        4\n",
      "888           Johnston, Miss. Catherine Helen \"Carrie\"        5\n",
      "889                              Behr, Mr. Karl Howell        4\n",
      "890                                Dooley, Mr. Patrick        3\n",
      "\n",
      "[891 rows x 2 columns]\n"
     ]
    }
   ],
   "source": [
    "# Count number of words in a column\n",
    "import pandas as pd\n",
    "\n",
    "data = pd.read_csv(\"https://raw.githubusercontent.com/ravibilla/datasets/main/titanic.csv\", encoding='latin1')\n",
    "print(data.head())\n",
    "\n",
    "data['# Words'] = data[\"Name\"].apply(lambda x: len(x.split()))\n",
    "print(data[['Name', '# Words']])\n"
   ]
  },
  {
   "cell_type": "markdown",
   "id": "4e60596a",
   "metadata": {},
   "source": [
    "## Rock, Paper, Scissors"
   ]
  },
  {
   "cell_type": "code",
   "execution_count": 2,
   "id": "30dffb79",
   "metadata": {},
   "outputs": [
    {
     "name": "stdout",
     "output_type": "stream",
     "text": [
      "It's a Tie!\n"
     ]
    }
   ],
   "source": [
    "# Rock, paper, scissors\n",
    "import random\n",
    "\n",
    "player1 = ''\n",
    "while player1 not in [\"rock\", \"paper\", \"scissor\"]:\n",
    "    player1 = input(\"Enter Rock, Paper or Scissor: \").lower()\n",
    "\n",
    "player2 = random.choice([\"rock\", \"paper\", \"scissor\"])\n",
    "\n",
    "if player1 == \"rock\" and player2 == \"paper\":\n",
    "    print(\"Paper beats Rock: Player 2 Won!\")\n",
    "elif player1 == \"paper\" and player2 == \"scissor\":\n",
    "    print(\"Scissor beats Paper: Player 2 Won!\")\n",
    "elif player1 == \"scissor\" and player2 == \"rock\":\n",
    "    print(\"Rock beats Scissor: Player 2 Won!\")\n",
    "elif player1 == player2:\n",
    "    print(\"It's a Tie!\")\n",
    "else:\n",
    "    print(\"Player 1 Won!\")"
   ]
  },
  {
   "cell_type": "markdown",
   "id": "688830f4",
   "metadata": {},
   "source": [
    "## Print Emojis"
   ]
  },
  {
   "cell_type": "code",
   "execution_count": 15,
   "id": "f41a7cac",
   "metadata": {},
   "outputs": [
    {
     "name": "stdout",
     "output_type": "stream",
     "text": [
      "I climbed Mt.Fuji during my receent trip to Japan 🗻\n",
      "Let's play Rock, Paper, Scissors 🪨🗞️✂️\n"
     ]
    }
   ],
   "source": [
    "# Print emojis\n",
    "#!pip install emoji\n",
    "import emoji\n",
    "\n",
    "print(emoji.emojize(\"I climbed Mt.Fuji during my receent trip to Japan :mount_fuji:\"))\n",
    "print(emoji.emojize(\"Let's play Rock, Paper, Scissors :rock::rolled-up_newspaper::scissors:\"))\n",
    "\n",
    "# https://carpedm20.github.io/emoji/"
   ]
  },
  {
   "cell_type": "markdown",
   "id": "ca0e205d",
   "metadata": {},
   "source": [
    "## Check Spelling"
   ]
  },
  {
   "cell_type": "code",
   "execution_count": 20,
   "id": "d16ee839",
   "metadata": {},
   "outputs": [
    {
     "name": "stdout",
     "output_type": "stream",
     "text": [
      "Collecting pyspellchecker\n",
      "  Downloading pyspellchecker-0.8.1-py3-none-any.whl.metadata (9.4 kB)\n",
      "Downloading pyspellchecker-0.8.1-py3-none-any.whl (6.8 MB)\n",
      "\u001b[2K   \u001b[90m━━━━━━━━━━━━━━━━━━━━━━━━━━━━━━━━━━━━━━━━\u001b[0m \u001b[32m6.8/6.8 MB\u001b[0m \u001b[31m8.2 MB/s\u001b[0m eta \u001b[36m0:00:00\u001b[0m00:01\u001b[0m00:01\u001b[0m\n",
      "\u001b[?25hInstalling collected packages: pyspellchecker\n",
      "Successfully installed pyspellchecker-0.8.1\n",
      "\n",
      "\u001b[1m[\u001b[0m\u001b[34;49mnotice\u001b[0m\u001b[1;39;49m]\u001b[0m\u001b[39;49m A new release of pip is available: \u001b[0m\u001b[31;49m23.3\u001b[0m\u001b[39;49m -> \u001b[0m\u001b[32;49m24.0\u001b[0m\n",
      "\u001b[1m[\u001b[0m\u001b[34;49mnotice\u001b[0m\u001b[1;39;49m]\u001b[0m\u001b[39;49m To update, run: \u001b[0m\u001b[32;49mpip install --upgrade pip\u001b[0m\n"
     ]
    }
   ],
   "source": [
    "!pip install pyspellchecker\n"
   ]
  },
  {
   "cell_type": "code",
   "execution_count": 25,
   "id": "13a5e545",
   "metadata": {},
   "outputs": [
    {
     "name": "stdout",
     "output_type": "stream",
     "text": [
      "Spelling of believe is correct!\n"
     ]
    }
   ],
   "source": [
    "# Check spelling\n",
    "#!pip install pyspellchecker\n",
    "from spellchecker import SpellChecker\n",
    "\n",
    "corrector = SpellChecker()\n",
    "\n",
    "word = input(\"Enter a word: \")\n",
    "if word in corrector:\n",
    "    print(f\"Spelling of {word} is correct!\")\n",
    "else: \n",
    "    correct_word = corrector.correction(word)\n",
    "    print(f\"Correct spelling of {word} is: {correct_word}\")\n"
   ]
  },
  {
   "cell_type": "markdown",
   "id": "038af1a8",
   "metadata": {},
   "source": [
    "## Scrape GitHub Profile"
   ]
  },
  {
   "cell_type": "code",
   "execution_count": 36,
   "id": "16026acf",
   "metadata": {},
   "outputs": [
    {
     "name": "stdout",
     "output_type": "stream",
     "text": [
      "https://avatars.githubusercontent.com/u/16884682?v=4\n"
     ]
    }
   ],
   "source": [
    "# Scrape github profile\n",
    "#pip install beautifulsoup4\n",
    "import requests\n",
    "from bs4 import BeautifulSoup as bs \n",
    "\n",
    "github_profile = \"https://github.com/ravibilla\"\n",
    "req = requests.get(github_profile)\n",
    "scraper = bs(req.content, \"html.parser\")\n",
    "profile_picture = scraper.find(\"img\", {\"class\": \"avatar avatar-user width-full border color-bg-default\"})[\"src\"]\n",
    "print(profile_picture)"
   ]
  },
  {
   "cell_type": "markdown",
   "id": "8cb52ebe",
   "metadata": {},
   "source": [
    "## "
   ]
  },
  {
   "cell_type": "markdown",
   "id": "72fec177",
   "metadata": {},
   "source": [
    "\n",
    "## Visualize a Linear Relationship\n",
    "\n"
   ]
  },
  {
   "cell_type": "markdown",
   "id": "e57d7345",
   "metadata": {},
   "source": []
  },
  {
   "cell_type": "code",
   "execution_count": 38,
   "id": "71736fd5",
   "metadata": {},
   "outputs": [
    {
     "name": "stdout",
     "output_type": "stream",
     "text": [
      "Requirement already satisfied: seaborn in /Users/ravibilla/.pyenv/versions/3.11.4/envs/jupyter3/lib/python3.11/site-packages (0.13.0)\n",
      "Requirement already satisfied: numpy!=1.24.0,>=1.20 in /Users/ravibilla/.pyenv/versions/3.11.4/envs/jupyter3/lib/python3.11/site-packages (from seaborn) (1.26.2)\n",
      "Requirement already satisfied: pandas>=1.2 in /Users/ravibilla/.pyenv/versions/3.11.4/envs/jupyter3/lib/python3.11/site-packages (from seaborn) (2.1.3)\n",
      "Requirement already satisfied: matplotlib!=3.6.1,>=3.3 in /Users/ravibilla/.pyenv/versions/3.11.4/envs/jupyter3/lib/python3.11/site-packages (from seaborn) (3.8.2)\n",
      "Requirement already satisfied: contourpy>=1.0.1 in /Users/ravibilla/.pyenv/versions/3.11.4/envs/jupyter3/lib/python3.11/site-packages (from matplotlib!=3.6.1,>=3.3->seaborn) (1.2.0)\n",
      "Requirement already satisfied: cycler>=0.10 in /Users/ravibilla/.pyenv/versions/3.11.4/envs/jupyter3/lib/python3.11/site-packages (from matplotlib!=3.6.1,>=3.3->seaborn) (0.12.1)\n",
      "Requirement already satisfied: fonttools>=4.22.0 in /Users/ravibilla/.pyenv/versions/3.11.4/envs/jupyter3/lib/python3.11/site-packages (from matplotlib!=3.6.1,>=3.3->seaborn) (4.45.0)\n",
      "Requirement already satisfied: kiwisolver>=1.3.1 in /Users/ravibilla/.pyenv/versions/3.11.4/envs/jupyter3/lib/python3.11/site-packages (from matplotlib!=3.6.1,>=3.3->seaborn) (1.4.5)\n",
      "Requirement already satisfied: packaging>=20.0 in /Users/ravibilla/.pyenv/versions/3.11.4/envs/jupyter3/lib/python3.11/site-packages (from matplotlib!=3.6.1,>=3.3->seaborn) (23.2)\n",
      "Requirement already satisfied: pillow>=8 in /Users/ravibilla/.pyenv/versions/3.11.4/envs/jupyter3/lib/python3.11/site-packages (from matplotlib!=3.6.1,>=3.3->seaborn) (10.1.0)\n",
      "Requirement already satisfied: pyparsing>=2.3.1 in /Users/ravibilla/.pyenv/versions/3.11.4/envs/jupyter3/lib/python3.11/site-packages (from matplotlib!=3.6.1,>=3.3->seaborn) (3.1.1)\n",
      "Requirement already satisfied: python-dateutil>=2.7 in /Users/ravibilla/.pyenv/versions/3.11.4/envs/jupyter3/lib/python3.11/site-packages (from matplotlib!=3.6.1,>=3.3->seaborn) (2.8.2)\n",
      "Requirement already satisfied: pytz>=2020.1 in /Users/ravibilla/.pyenv/versions/3.11.4/envs/jupyter3/lib/python3.11/site-packages (from pandas>=1.2->seaborn) (2023.3.post1)\n",
      "Requirement already satisfied: tzdata>=2022.1 in /Users/ravibilla/.pyenv/versions/3.11.4/envs/jupyter3/lib/python3.11/site-packages (from pandas>=1.2->seaborn) (2023.3)\n",
      "Requirement already satisfied: six>=1.5 in /Users/ravibilla/.pyenv/versions/3.11.4/envs/jupyter3/lib/python3.11/site-packages (from python-dateutil>=2.7->matplotlib!=3.6.1,>=3.3->seaborn) (1.16.0)\n",
      "\n",
      "\u001b[1m[\u001b[0m\u001b[34;49mnotice\u001b[0m\u001b[1;39;49m]\u001b[0m\u001b[39;49m A new release of pip is available: \u001b[0m\u001b[31;49m23.3\u001b[0m\u001b[39;49m -> \u001b[0m\u001b[32;49m24.0\u001b[0m\n",
      "\u001b[1m[\u001b[0m\u001b[34;49mnotice\u001b[0m\u001b[1;39;49m]\u001b[0m\u001b[39;49m To update, run: \u001b[0m\u001b[32;49mpip install --upgrade pip\u001b[0m\n"
     ]
    }
   ],
   "source": [
    "!pip install seaborn"
   ]
  },
  {
   "cell_type": "code",
   "execution_count": 48,
   "id": "a442f0f1",
   "metadata": {},
   "outputs": [
    {
     "name": "stdout",
     "output_type": "stream",
     "text": [
      "   Impressions  From Home  From Hashtags  From Explore  From Other  Saves  \\\n",
      "0       3920.0     2586.0         1028.0         619.0        56.0   98.0   \n",
      "1       5394.0     2727.0         1838.0        1174.0        78.0  194.0   \n",
      "2       4021.0     2085.0         1188.0           0.0       533.0   41.0   \n",
      "3       4528.0     2700.0          621.0         932.0        73.0  172.0   \n",
      "4       2518.0     1704.0          255.0         279.0        37.0   96.0   \n",
      "\n",
      "   Comments  Shares  Likes  Profile Visits  Follows  \\\n",
      "0       9.0     5.0  162.0            35.0      2.0   \n",
      "1       7.0    14.0  224.0            48.0     10.0   \n",
      "2      11.0     1.0  131.0            62.0     12.0   \n",
      "3      10.0     7.0  213.0            23.0      8.0   \n",
      "4       5.0     4.0  123.0             8.0      0.0   \n",
      "\n",
      "                                             Caption  \\\n",
      "0  Here are some of the most important data visua...   \n",
      "1  Here are some of the best data science project...   \n",
      "2  Learn how to train a machine learning model an...   \n",
      "3  Heres how you can write a Python program to d...   \n",
      "4  Plotting annotations while visualizing your da...   \n",
      "\n",
      "                                            Hashtags  \n",
      "0  #finance #money #business #investing #investme...  \n",
      "1  #healthcare #health #covid #data #datascience ...  \n",
      "2  #data #datascience #dataanalysis #dataanalytic...  \n",
      "3  #python #pythonprogramming #pythonprojects #py...  \n",
      "4  #datavisualization #datascience #data #dataana...  \n"
     ]
    },
    {
     "data": {
      "application/vnd.plotly.v1+json": {
       "config": {
        "plotlyServerURL": "https://plot.ly"
       },
       "data": [
        {
         "hovertemplate": "Impressions=%{x}<br>Likes=%{marker.size}<extra></extra>",
         "legendgroup": "",
         "marker": {
          "color": "#636efa",
          "size": [
           162,
           224,
           131,
           213,
           123,
           144,
           76,
           124,
           159,
           191,
           81,
           151,
           162,
           142,
           294,
           159,
           205,
           121,
           151,
           72,
           76,
           91,
           195,
           129,
           160,
           175,
           147,
           114,
           151,
           92,
           214,
           150,
           122,
           152,
           196,
           86,
           85,
           156,
           72,
           82,
           416,
           180,
           150,
           127,
           167,
           225,
           137,
           114,
           263,
           328,
           126,
           236,
           99,
           212,
           297,
           142,
           186,
           112,
           149,
           132,
           115,
           248,
           178,
           107,
           269,
           96,
           134,
           301,
           187,
           94,
           114,
           96,
           138,
           122,
           257,
           95,
           244,
           190,
           118,
           178,
           170,
           250,
           159,
           205,
           121,
           151,
           72,
           137,
           114,
           263,
           328,
           126,
           129,
           160,
           175,
           147,
           114,
           151,
           92
          ],
          "sizemode": "area",
          "sizeref": 1.04,
          "symbol": "circle"
         },
         "mode": "markers",
         "name": "",
         "orientation": "v",
         "showlegend": false,
         "type": "scatter",
         "x": [
          3920,
          5394,
          4021,
          4528,
          2518,
          3884,
          2621,
          3541,
          3749,
          4115,
          2218,
          3234,
          4344,
          3216,
          9453,
          5055,
          4002,
          3169,
          6168,
          2407,
          2064,
          3973,
          7281,
          3052,
          4628,
          4082,
          5394,
          2766,
          3924,
          3015,
          6666,
          3854,
          4355,
          4343,
          6108,
          2523,
          2327,
          3990,
          2191,
          1941,
          16062,
          4998,
          4289,
          3880,
          3786,
          4298,
          3630,
          2826,
          7407,
          10386,
          2998,
          7018,
          2941,
          6432,
          10667,
          3988,
          4978,
          3388,
          4467,
          3246,
          5072,
          6339,
          4239,
          3454,
          7571,
          3333,
          3818,
          10933,
          5058,
          3601,
          3480,
          3525,
          3606,
          5542,
          6559,
          3623,
          10493,
          4446,
          2957,
          5538,
          4681,
          5273,
          5055,
          4002,
          3169,
          6168,
          2407,
          3630,
          2826,
          7407,
          10386,
          2998,
          3052,
          4628,
          4082,
          5394,
          2766,
          3924,
          3015
         ],
         "xaxis": "x",
         "y": [
          162,
          224,
          131,
          213,
          123,
          144,
          76,
          124,
          159,
          191,
          81,
          151,
          162,
          142,
          294,
          159,
          205,
          121,
          151,
          72,
          76,
          91,
          195,
          129,
          160,
          175,
          147,
          114,
          151,
          92,
          214,
          150,
          122,
          152,
          196,
          86,
          85,
          156,
          72,
          82,
          416,
          180,
          150,
          127,
          167,
          225,
          137,
          114,
          263,
          328,
          126,
          236,
          99,
          212,
          297,
          142,
          186,
          112,
          149,
          132,
          115,
          248,
          178,
          107,
          269,
          96,
          134,
          301,
          187,
          94,
          114,
          96,
          138,
          122,
          257,
          95,
          244,
          190,
          118,
          178,
          170,
          250,
          159,
          205,
          121,
          151,
          72,
          137,
          114,
          263,
          328,
          126,
          129,
          160,
          175,
          147,
          114,
          151,
          92
         ],
         "yaxis": "y"
        },
        {
         "hovertemplate": "<b>OLS trendline</b><br>Likes = 0.0253784 * Impressions + 42.4728<br>R<sup>2</sup>=0.803312<br><br>Impressions=%{x}<br>Likes=%{y} <b>(trend)</b><extra></extra>",
         "legendgroup": "",
         "marker": {
          "color": "#636efa",
          "symbol": "circle"
         },
         "mode": "lines",
         "name": "",
         "showlegend": false,
         "type": "scatter",
         "x": [
          1941,
          2064,
          2191,
          2218,
          2327,
          2407,
          2407,
          2518,
          2523,
          2621,
          2766,
          2766,
          2826,
          2826,
          2941,
          2957,
          2998,
          2998,
          3015,
          3015,
          3052,
          3052,
          3169,
          3169,
          3216,
          3234,
          3246,
          3333,
          3388,
          3454,
          3480,
          3525,
          3541,
          3601,
          3606,
          3623,
          3630,
          3630,
          3749,
          3786,
          3818,
          3854,
          3880,
          3884,
          3920,
          3924,
          3924,
          3973,
          3988,
          3990,
          4002,
          4002,
          4021,
          4082,
          4082,
          4115,
          4239,
          4289,
          4298,
          4343,
          4344,
          4355,
          4446,
          4467,
          4528,
          4628,
          4628,
          4681,
          4978,
          4998,
          5055,
          5055,
          5058,
          5072,
          5273,
          5394,
          5394,
          5394,
          5538,
          5542,
          6108,
          6168,
          6168,
          6339,
          6432,
          6559,
          6666,
          7018,
          7281,
          7407,
          7407,
          7571,
          9453,
          10386,
          10386,
          10493,
          10667,
          10933,
          16062
         ],
         "xaxis": "x",
         "y": [
          91.73221896254907,
          94.8537606451956,
          98.07681587849731,
          98.76203234541973,
          101.52827660077318,
          103.55854761387661,
          103.55854761387661,
          106.37554864455764,
          106.5024405828766,
          108.98952257392833,
          112.66938878517831,
          112.66938878517831,
          114.1920920450059,
          114.1920920450059,
          117.11060662634209,
          117.51666082896278,
          118.55717472317829,
          118.55717472317829,
          118.98860731346278,
          118.98860731346278,
          119.92760765702312,
          119.92760765702312,
          122.8968790136869,
          122.8968790136869,
          124.08966323388518,
          124.54647421183344,
          124.85101486379897,
          127.05893459054896,
          128.45474591205758,
          130.1297194978679,
          130.78955757712652,
          131.93158502199722,
          132.3376392246179,
          133.86034248444548,
          133.98723442276446,
          134.41866701304895,
          134.59631572669548,
          134.59631572669548,
          137.61634385868686,
          138.5553442022472,
          139.3674526074886,
          140.28107456338512,
          140.94091264264375,
          141.04242619329892,
          141.95604814919545,
          142.05756169985062,
          142.05756169985062,
          143.3011026953765,
          143.6817785103334,
          143.73253528566096,
          144.0370759376265,
          144.0370759376265,
          144.51926530323857,
          146.06734695072993,
          146.06734695072993,
          146.9048337436351,
          150.05175381394542,
          151.32067319713508,
          151.54907868610923,
          152.6911061309799,
          152.7164845186437,
          152.9956467829454,
          155.30508006035058,
          155.83802620129023,
          157.38610784878162,
          159.92394661516093,
          159.92394661516093,
          161.26900116134198,
          168.80638229748848,
          169.31395005076433,
          170.76051814760055,
          170.76051814760055,
          170.83665331059194,
          171.19195073788504,
          176.29300665830743,
          179.36379156562637,
          179.36379156562637,
          179.36379156562637,
          183.01827938921258,
          183.11979293986775,
          197.4839603575746,
          199.00666361740218,
          199.00666361740218,
          203.3463679079108,
          205.70655796064355,
          208.92961319394527,
          211.64510067397111,
          220.57829313162625,
          227.25280908720381,
          230.45048593284176,
          230.45048593284176,
          234.61254150970382,
          282.3746670929623,
          306.0527027832811,
          306.0527027832811,
          308.768190263307,
          313.184029716807,
          319.93468083537596,
          450.1004311629704
         ],
         "yaxis": "y"
        }
       ],
       "layout": {
        "legend": {
         "itemsizing": "constant",
         "tracegroupgap": 0
        },
        "template": {
         "data": {
          "bar": [
           {
            "error_x": {
             "color": "#2a3f5f"
            },
            "error_y": {
             "color": "#2a3f5f"
            },
            "marker": {
             "line": {
              "color": "#E5ECF6",
              "width": 0.5
             },
             "pattern": {
              "fillmode": "overlay",
              "size": 10,
              "solidity": 0.2
             }
            },
            "type": "bar"
           }
          ],
          "barpolar": [
           {
            "marker": {
             "line": {
              "color": "#E5ECF6",
              "width": 0.5
             },
             "pattern": {
              "fillmode": "overlay",
              "size": 10,
              "solidity": 0.2
             }
            },
            "type": "barpolar"
           }
          ],
          "carpet": [
           {
            "aaxis": {
             "endlinecolor": "#2a3f5f",
             "gridcolor": "white",
             "linecolor": "white",
             "minorgridcolor": "white",
             "startlinecolor": "#2a3f5f"
            },
            "baxis": {
             "endlinecolor": "#2a3f5f",
             "gridcolor": "white",
             "linecolor": "white",
             "minorgridcolor": "white",
             "startlinecolor": "#2a3f5f"
            },
            "type": "carpet"
           }
          ],
          "choropleth": [
           {
            "colorbar": {
             "outlinewidth": 0,
             "ticks": ""
            },
            "type": "choropleth"
           }
          ],
          "contour": [
           {
            "colorbar": {
             "outlinewidth": 0,
             "ticks": ""
            },
            "colorscale": [
             [
              0,
              "#0d0887"
             ],
             [
              0.1111111111111111,
              "#46039f"
             ],
             [
              0.2222222222222222,
              "#7201a8"
             ],
             [
              0.3333333333333333,
              "#9c179e"
             ],
             [
              0.4444444444444444,
              "#bd3786"
             ],
             [
              0.5555555555555556,
              "#d8576b"
             ],
             [
              0.6666666666666666,
              "#ed7953"
             ],
             [
              0.7777777777777778,
              "#fb9f3a"
             ],
             [
              0.8888888888888888,
              "#fdca26"
             ],
             [
              1,
              "#f0f921"
             ]
            ],
            "type": "contour"
           }
          ],
          "contourcarpet": [
           {
            "colorbar": {
             "outlinewidth": 0,
             "ticks": ""
            },
            "type": "contourcarpet"
           }
          ],
          "heatmap": [
           {
            "colorbar": {
             "outlinewidth": 0,
             "ticks": ""
            },
            "colorscale": [
             [
              0,
              "#0d0887"
             ],
             [
              0.1111111111111111,
              "#46039f"
             ],
             [
              0.2222222222222222,
              "#7201a8"
             ],
             [
              0.3333333333333333,
              "#9c179e"
             ],
             [
              0.4444444444444444,
              "#bd3786"
             ],
             [
              0.5555555555555556,
              "#d8576b"
             ],
             [
              0.6666666666666666,
              "#ed7953"
             ],
             [
              0.7777777777777778,
              "#fb9f3a"
             ],
             [
              0.8888888888888888,
              "#fdca26"
             ],
             [
              1,
              "#f0f921"
             ]
            ],
            "type": "heatmap"
           }
          ],
          "heatmapgl": [
           {
            "colorbar": {
             "outlinewidth": 0,
             "ticks": ""
            },
            "colorscale": [
             [
              0,
              "#0d0887"
             ],
             [
              0.1111111111111111,
              "#46039f"
             ],
             [
              0.2222222222222222,
              "#7201a8"
             ],
             [
              0.3333333333333333,
              "#9c179e"
             ],
             [
              0.4444444444444444,
              "#bd3786"
             ],
             [
              0.5555555555555556,
              "#d8576b"
             ],
             [
              0.6666666666666666,
              "#ed7953"
             ],
             [
              0.7777777777777778,
              "#fb9f3a"
             ],
             [
              0.8888888888888888,
              "#fdca26"
             ],
             [
              1,
              "#f0f921"
             ]
            ],
            "type": "heatmapgl"
           }
          ],
          "histogram": [
           {
            "marker": {
             "pattern": {
              "fillmode": "overlay",
              "size": 10,
              "solidity": 0.2
             }
            },
            "type": "histogram"
           }
          ],
          "histogram2d": [
           {
            "colorbar": {
             "outlinewidth": 0,
             "ticks": ""
            },
            "colorscale": [
             [
              0,
              "#0d0887"
             ],
             [
              0.1111111111111111,
              "#46039f"
             ],
             [
              0.2222222222222222,
              "#7201a8"
             ],
             [
              0.3333333333333333,
              "#9c179e"
             ],
             [
              0.4444444444444444,
              "#bd3786"
             ],
             [
              0.5555555555555556,
              "#d8576b"
             ],
             [
              0.6666666666666666,
              "#ed7953"
             ],
             [
              0.7777777777777778,
              "#fb9f3a"
             ],
             [
              0.8888888888888888,
              "#fdca26"
             ],
             [
              1,
              "#f0f921"
             ]
            ],
            "type": "histogram2d"
           }
          ],
          "histogram2dcontour": [
           {
            "colorbar": {
             "outlinewidth": 0,
             "ticks": ""
            },
            "colorscale": [
             [
              0,
              "#0d0887"
             ],
             [
              0.1111111111111111,
              "#46039f"
             ],
             [
              0.2222222222222222,
              "#7201a8"
             ],
             [
              0.3333333333333333,
              "#9c179e"
             ],
             [
              0.4444444444444444,
              "#bd3786"
             ],
             [
              0.5555555555555556,
              "#d8576b"
             ],
             [
              0.6666666666666666,
              "#ed7953"
             ],
             [
              0.7777777777777778,
              "#fb9f3a"
             ],
             [
              0.8888888888888888,
              "#fdca26"
             ],
             [
              1,
              "#f0f921"
             ]
            ],
            "type": "histogram2dcontour"
           }
          ],
          "mesh3d": [
           {
            "colorbar": {
             "outlinewidth": 0,
             "ticks": ""
            },
            "type": "mesh3d"
           }
          ],
          "parcoords": [
           {
            "line": {
             "colorbar": {
              "outlinewidth": 0,
              "ticks": ""
             }
            },
            "type": "parcoords"
           }
          ],
          "pie": [
           {
            "automargin": true,
            "type": "pie"
           }
          ],
          "scatter": [
           {
            "fillpattern": {
             "fillmode": "overlay",
             "size": 10,
             "solidity": 0.2
            },
            "type": "scatter"
           }
          ],
          "scatter3d": [
           {
            "line": {
             "colorbar": {
              "outlinewidth": 0,
              "ticks": ""
             }
            },
            "marker": {
             "colorbar": {
              "outlinewidth": 0,
              "ticks": ""
             }
            },
            "type": "scatter3d"
           }
          ],
          "scattercarpet": [
           {
            "marker": {
             "colorbar": {
              "outlinewidth": 0,
              "ticks": ""
             }
            },
            "type": "scattercarpet"
           }
          ],
          "scattergeo": [
           {
            "marker": {
             "colorbar": {
              "outlinewidth": 0,
              "ticks": ""
             }
            },
            "type": "scattergeo"
           }
          ],
          "scattergl": [
           {
            "marker": {
             "colorbar": {
              "outlinewidth": 0,
              "ticks": ""
             }
            },
            "type": "scattergl"
           }
          ],
          "scattermapbox": [
           {
            "marker": {
             "colorbar": {
              "outlinewidth": 0,
              "ticks": ""
             }
            },
            "type": "scattermapbox"
           }
          ],
          "scatterpolar": [
           {
            "marker": {
             "colorbar": {
              "outlinewidth": 0,
              "ticks": ""
             }
            },
            "type": "scatterpolar"
           }
          ],
          "scatterpolargl": [
           {
            "marker": {
             "colorbar": {
              "outlinewidth": 0,
              "ticks": ""
             }
            },
            "type": "scatterpolargl"
           }
          ],
          "scatterternary": [
           {
            "marker": {
             "colorbar": {
              "outlinewidth": 0,
              "ticks": ""
             }
            },
            "type": "scatterternary"
           }
          ],
          "surface": [
           {
            "colorbar": {
             "outlinewidth": 0,
             "ticks": ""
            },
            "colorscale": [
             [
              0,
              "#0d0887"
             ],
             [
              0.1111111111111111,
              "#46039f"
             ],
             [
              0.2222222222222222,
              "#7201a8"
             ],
             [
              0.3333333333333333,
              "#9c179e"
             ],
             [
              0.4444444444444444,
              "#bd3786"
             ],
             [
              0.5555555555555556,
              "#d8576b"
             ],
             [
              0.6666666666666666,
              "#ed7953"
             ],
             [
              0.7777777777777778,
              "#fb9f3a"
             ],
             [
              0.8888888888888888,
              "#fdca26"
             ],
             [
              1,
              "#f0f921"
             ]
            ],
            "type": "surface"
           }
          ],
          "table": [
           {
            "cells": {
             "fill": {
              "color": "#EBF0F8"
             },
             "line": {
              "color": "white"
             }
            },
            "header": {
             "fill": {
              "color": "#C8D4E3"
             },
             "line": {
              "color": "white"
             }
            },
            "type": "table"
           }
          ]
         },
         "layout": {
          "annotationdefaults": {
           "arrowcolor": "#2a3f5f",
           "arrowhead": 0,
           "arrowwidth": 1
          },
          "autotypenumbers": "strict",
          "coloraxis": {
           "colorbar": {
            "outlinewidth": 0,
            "ticks": ""
           }
          },
          "colorscale": {
           "diverging": [
            [
             0,
             "#8e0152"
            ],
            [
             0.1,
             "#c51b7d"
            ],
            [
             0.2,
             "#de77ae"
            ],
            [
             0.3,
             "#f1b6da"
            ],
            [
             0.4,
             "#fde0ef"
            ],
            [
             0.5,
             "#f7f7f7"
            ],
            [
             0.6,
             "#e6f5d0"
            ],
            [
             0.7,
             "#b8e186"
            ],
            [
             0.8,
             "#7fbc41"
            ],
            [
             0.9,
             "#4d9221"
            ],
            [
             1,
             "#276419"
            ]
           ],
           "sequential": [
            [
             0,
             "#0d0887"
            ],
            [
             0.1111111111111111,
             "#46039f"
            ],
            [
             0.2222222222222222,
             "#7201a8"
            ],
            [
             0.3333333333333333,
             "#9c179e"
            ],
            [
             0.4444444444444444,
             "#bd3786"
            ],
            [
             0.5555555555555556,
             "#d8576b"
            ],
            [
             0.6666666666666666,
             "#ed7953"
            ],
            [
             0.7777777777777778,
             "#fb9f3a"
            ],
            [
             0.8888888888888888,
             "#fdca26"
            ],
            [
             1,
             "#f0f921"
            ]
           ],
           "sequentialminus": [
            [
             0,
             "#0d0887"
            ],
            [
             0.1111111111111111,
             "#46039f"
            ],
            [
             0.2222222222222222,
             "#7201a8"
            ],
            [
             0.3333333333333333,
             "#9c179e"
            ],
            [
             0.4444444444444444,
             "#bd3786"
            ],
            [
             0.5555555555555556,
             "#d8576b"
            ],
            [
             0.6666666666666666,
             "#ed7953"
            ],
            [
             0.7777777777777778,
             "#fb9f3a"
            ],
            [
             0.8888888888888888,
             "#fdca26"
            ],
            [
             1,
             "#f0f921"
            ]
           ]
          },
          "colorway": [
           "#636efa",
           "#EF553B",
           "#00cc96",
           "#ab63fa",
           "#FFA15A",
           "#19d3f3",
           "#FF6692",
           "#B6E880",
           "#FF97FF",
           "#FECB52"
          ],
          "font": {
           "color": "#2a3f5f"
          },
          "geo": {
           "bgcolor": "white",
           "lakecolor": "white",
           "landcolor": "#E5ECF6",
           "showlakes": true,
           "showland": true,
           "subunitcolor": "white"
          },
          "hoverlabel": {
           "align": "left"
          },
          "hovermode": "closest",
          "mapbox": {
           "style": "light"
          },
          "paper_bgcolor": "white",
          "plot_bgcolor": "#E5ECF6",
          "polar": {
           "angularaxis": {
            "gridcolor": "white",
            "linecolor": "white",
            "ticks": ""
           },
           "bgcolor": "#E5ECF6",
           "radialaxis": {
            "gridcolor": "white",
            "linecolor": "white",
            "ticks": ""
           }
          },
          "scene": {
           "xaxis": {
            "backgroundcolor": "#E5ECF6",
            "gridcolor": "white",
            "gridwidth": 2,
            "linecolor": "white",
            "showbackground": true,
            "ticks": "",
            "zerolinecolor": "white"
           },
           "yaxis": {
            "backgroundcolor": "#E5ECF6",
            "gridcolor": "white",
            "gridwidth": 2,
            "linecolor": "white",
            "showbackground": true,
            "ticks": "",
            "zerolinecolor": "white"
           },
           "zaxis": {
            "backgroundcolor": "#E5ECF6",
            "gridcolor": "white",
            "gridwidth": 2,
            "linecolor": "white",
            "showbackground": true,
            "ticks": "",
            "zerolinecolor": "white"
           }
          },
          "shapedefaults": {
           "line": {
            "color": "#2a3f5f"
           }
          },
          "ternary": {
           "aaxis": {
            "gridcolor": "white",
            "linecolor": "white",
            "ticks": ""
           },
           "baxis": {
            "gridcolor": "white",
            "linecolor": "white",
            "ticks": ""
           },
           "bgcolor": "#E5ECF6",
           "caxis": {
            "gridcolor": "white",
            "linecolor": "white",
            "ticks": ""
           }
          },
          "title": {
           "x": 0.05
          },
          "xaxis": {
           "automargin": true,
           "gridcolor": "white",
           "linecolor": "white",
           "ticks": "",
           "title": {
            "standoff": 15
           },
           "zerolinecolor": "white",
           "zerolinewidth": 2
          },
          "yaxis": {
           "automargin": true,
           "gridcolor": "white",
           "linecolor": "white",
           "ticks": "",
           "title": {
            "standoff": 15
           },
           "zerolinecolor": "white",
           "zerolinewidth": 2
          }
         }
        },
        "title": {
         "text": "Likes vs Impressions"
        },
        "xaxis": {
         "anchor": "y",
         "domain": [
          0,
          1
         ],
         "title": {
          "text": "Impressions"
         }
        },
        "yaxis": {
         "anchor": "x",
         "domain": [
          0,
          1
         ],
         "title": {
          "text": "Likes"
         }
        }
       }
      }
     },
     "metadata": {},
     "output_type": "display_data"
    },
    {
     "data": {
      "image/svg+xml": [
       "<?xml version=\"1.0\" encoding=\"utf-8\" standalone=\"no\"?>\n",
       "<!DOCTYPE svg PUBLIC \"-//W3C//DTD SVG 1.1//EN\"\n",
       "  \"http://www.w3.org/Graphics/SVG/1.1/DTD/svg11.dtd\">\n",
       "<svg xmlns:xlink=\"http://www.w3.org/1999/xlink\" width=\"691.28175pt\" height=\"539.587075pt\" viewBox=\"0 0 691.28175 539.587075\" xmlns=\"http://www.w3.org/2000/svg\" version=\"1.1\">\n",
       " <metadata>\n",
       "  <rdf:RDF xmlns:dc=\"http://purl.org/dc/elements/1.1/\" xmlns:cc=\"http://creativecommons.org/ns#\" xmlns:rdf=\"http://www.w3.org/1999/02/22-rdf-syntax-ns#\">\n",
       "   <cc:Work>\n",
       "    <dc:type rdf:resource=\"http://purl.org/dc/dcmitype/StillImage\"/>\n",
       "    <dc:date>2024-03-08T14:19:43.419146</dc:date>\n",
       "    <dc:format>image/svg+xml</dc:format>\n",
       "    <dc:creator>\n",
       "     <cc:Agent>\n",
       "      <dc:title>Matplotlib v3.8.2, https://matplotlib.org/</dc:title>\n",
       "     </cc:Agent>\n",
       "    </dc:creator>\n",
       "   </cc:Work>\n",
       "  </rdf:RDF>\n",
       " </metadata>\n",
       " <defs>\n",
       "  <style type=\"text/css\">*{stroke-linejoin: round; stroke-linecap: butt}</style>\n",
       " </defs>\n",
       " <g id=\"figure_1\">\n",
       "  <g id=\"patch_1\">\n",
       "   <path d=\"M 0 539.587075 \n",
       "L 691.28175 539.587075 \n",
       "L 691.28175 0 \n",
       "L 0 0 \n",
       "z\n",
       "\" style=\"fill: #f0f0f0\"/>\n",
       "  </g>\n",
       "  <g id=\"axes_1\">\n",
       "   <g id=\"patch_2\">\n",
       "    <path d=\"M 57.68175 495.07845 \n",
       "L 684.08175 495.07845 \n",
       "L 684.08175 28.51845 \n",
       "L 57.68175 28.51845 \n",
       "z\n",
       "\" style=\"fill: #f0f0f0\"/>\n",
       "   </g>\n",
       "   <g id=\"matplotlib.axis_1\">\n",
       "    <g id=\"xtick_1\">\n",
       "     <g id=\"line2d_1\">\n",
       "      <path d=\"M 88.533758 495.07845 \n",
       "L 88.533758 28.51845 \n",
       "\" clip-path=\"url(#p072344df87)\" style=\"fill: none; stroke: #cbcbcb\"/>\n",
       "     </g>\n",
       "     <g id=\"line2d_2\"/>\n",
       "     <g id=\"text_1\">\n",
       "      <!-- 2000 -->\n",
       "      <g transform=\"translate(70.718758 509.216263) scale(0.14 -0.14)\">\n",
       "       <defs>\n",
       "        <path id=\"DejaVuSans-32\" d=\"M 1228 531 \n",
       "L 3431 531 \n",
       "L 3431 0 \n",
       "L 469 0 \n",
       "L 469 531 \n",
       "Q 828 903 1448 1529 \n",
       "Q 2069 2156 2228 2338 \n",
       "Q 2531 2678 2651 2914 \n",
       "Q 2772 3150 2772 3378 \n",
       "Q 2772 3750 2511 3984 \n",
       "Q 2250 4219 1831 4219 \n",
       "Q 1534 4219 1204 4116 \n",
       "Q 875 4013 500 3803 \n",
       "L 500 4441 \n",
       "Q 881 4594 1212 4672 \n",
       "Q 1544 4750 1819 4750 \n",
       "Q 2544 4750 2975 4387 \n",
       "Q 3406 4025 3406 3419 \n",
       "Q 3406 3131 3298 2873 \n",
       "Q 3191 2616 2906 2266 \n",
       "Q 2828 2175 2409 1742 \n",
       "Q 1991 1309 1228 531 \n",
       "z\n",
       "\" transform=\"scale(0.015625)\"/>\n",
       "        <path id=\"DejaVuSans-30\" d=\"M 2034 4250 \n",
       "Q 1547 4250 1301 3770 \n",
       "Q 1056 3291 1056 2328 \n",
       "Q 1056 1369 1301 889 \n",
       "Q 1547 409 2034 409 \n",
       "Q 2525 409 2770 889 \n",
       "Q 3016 1369 3016 2328 \n",
       "Q 3016 3291 2770 3770 \n",
       "Q 2525 4250 2034 4250 \n",
       "z\n",
       "M 2034 4750 \n",
       "Q 2819 4750 3233 4129 \n",
       "Q 3647 3509 3647 2328 \n",
       "Q 3647 1150 3233 529 \n",
       "Q 2819 -91 2034 -91 \n",
       "Q 1250 -91 836 529 \n",
       "Q 422 1150 422 2328 \n",
       "Q 422 3509 836 4129 \n",
       "Q 1250 4750 2034 4750 \n",
       "z\n",
       "\" transform=\"scale(0.015625)\"/>\n",
       "       </defs>\n",
       "       <use xlink:href=\"#DejaVuSans-32\"/>\n",
       "       <use xlink:href=\"#DejaVuSans-30\" x=\"63.623047\"/>\n",
       "       <use xlink:href=\"#DejaVuSans-30\" x=\"127.246094\"/>\n",
       "       <use xlink:href=\"#DejaVuSans-30\" x=\"190.869141\"/>\n",
       "      </g>\n",
       "     </g>\n",
       "    </g>\n",
       "    <g id=\"xtick_2\">\n",
       "     <g id=\"line2d_3\">\n",
       "      <path d=\"M 169.18733 495.07845 \n",
       "L 169.18733 28.51845 \n",
       "\" clip-path=\"url(#p072344df87)\" style=\"fill: none; stroke: #cbcbcb\"/>\n",
       "     </g>\n",
       "     <g id=\"line2d_4\"/>\n",
       "     <g id=\"text_2\">\n",
       "      <!-- 4000 -->\n",
       "      <g transform=\"translate(151.37233 509.216263) scale(0.14 -0.14)\">\n",
       "       <defs>\n",
       "        <path id=\"DejaVuSans-34\" d=\"M 2419 4116 \n",
       "L 825 1625 \n",
       "L 2419 1625 \n",
       "L 2419 4116 \n",
       "z\n",
       "M 2253 4666 \n",
       "L 3047 4666 \n",
       "L 3047 1625 \n",
       "L 3713 1625 \n",
       "L 3713 1100 \n",
       "L 3047 1100 \n",
       "L 3047 0 \n",
       "L 2419 0 \n",
       "L 2419 1100 \n",
       "L 313 1100 \n",
       "L 313 1709 \n",
       "L 2253 4666 \n",
       "z\n",
       "\" transform=\"scale(0.015625)\"/>\n",
       "       </defs>\n",
       "       <use xlink:href=\"#DejaVuSans-34\"/>\n",
       "       <use xlink:href=\"#DejaVuSans-30\" x=\"63.623047\"/>\n",
       "       <use xlink:href=\"#DejaVuSans-30\" x=\"127.246094\"/>\n",
       "       <use xlink:href=\"#DejaVuSans-30\" x=\"190.869141\"/>\n",
       "      </g>\n",
       "     </g>\n",
       "    </g>\n",
       "    <g id=\"xtick_3\">\n",
       "     <g id=\"line2d_5\">\n",
       "      <path d=\"M 249.840902 495.07845 \n",
       "L 249.840902 28.51845 \n",
       "\" clip-path=\"url(#p072344df87)\" style=\"fill: none; stroke: #cbcbcb\"/>\n",
       "     </g>\n",
       "     <g id=\"line2d_6\"/>\n",
       "     <g id=\"text_3\">\n",
       "      <!-- 6000 -->\n",
       "      <g transform=\"translate(232.025902 509.216263) scale(0.14 -0.14)\">\n",
       "       <defs>\n",
       "        <path id=\"DejaVuSans-36\" d=\"M 2113 2584 \n",
       "Q 1688 2584 1439 2293 \n",
       "Q 1191 2003 1191 1497 \n",
       "Q 1191 994 1439 701 \n",
       "Q 1688 409 2113 409 \n",
       "Q 2538 409 2786 701 \n",
       "Q 3034 994 3034 1497 \n",
       "Q 3034 2003 2786 2293 \n",
       "Q 2538 2584 2113 2584 \n",
       "z\n",
       "M 3366 4563 \n",
       "L 3366 3988 \n",
       "Q 3128 4100 2886 4159 \n",
       "Q 2644 4219 2406 4219 \n",
       "Q 1781 4219 1451 3797 \n",
       "Q 1122 3375 1075 2522 \n",
       "Q 1259 2794 1537 2939 \n",
       "Q 1816 3084 2150 3084 \n",
       "Q 2853 3084 3261 2657 \n",
       "Q 3669 2231 3669 1497 \n",
       "Q 3669 778 3244 343 \n",
       "Q 2819 -91 2113 -91 \n",
       "Q 1303 -91 875 529 \n",
       "Q 447 1150 447 2328 \n",
       "Q 447 3434 972 4092 \n",
       "Q 1497 4750 2381 4750 \n",
       "Q 2619 4750 2861 4703 \n",
       "Q 3103 4656 3366 4563 \n",
       "z\n",
       "\" transform=\"scale(0.015625)\"/>\n",
       "       </defs>\n",
       "       <use xlink:href=\"#DejaVuSans-36\"/>\n",
       "       <use xlink:href=\"#DejaVuSans-30\" x=\"63.623047\"/>\n",
       "       <use xlink:href=\"#DejaVuSans-30\" x=\"127.246094\"/>\n",
       "       <use xlink:href=\"#DejaVuSans-30\" x=\"190.869141\"/>\n",
       "      </g>\n",
       "     </g>\n",
       "    </g>\n",
       "    <g id=\"xtick_4\">\n",
       "     <g id=\"line2d_7\">\n",
       "      <path d=\"M 330.494474 495.07845 \n",
       "L 330.494474 28.51845 \n",
       "\" clip-path=\"url(#p072344df87)\" style=\"fill: none; stroke: #cbcbcb\"/>\n",
       "     </g>\n",
       "     <g id=\"line2d_8\"/>\n",
       "     <g id=\"text_4\">\n",
       "      <!-- 8000 -->\n",
       "      <g transform=\"translate(312.679474 509.216263) scale(0.14 -0.14)\">\n",
       "       <defs>\n",
       "        <path id=\"DejaVuSans-38\" d=\"M 2034 2216 \n",
       "Q 1584 2216 1326 1975 \n",
       "Q 1069 1734 1069 1313 \n",
       "Q 1069 891 1326 650 \n",
       "Q 1584 409 2034 409 \n",
       "Q 2484 409 2743 651 \n",
       "Q 3003 894 3003 1313 \n",
       "Q 3003 1734 2745 1975 \n",
       "Q 2488 2216 2034 2216 \n",
       "z\n",
       "M 1403 2484 \n",
       "Q 997 2584 770 2862 \n",
       "Q 544 3141 544 3541 \n",
       "Q 544 4100 942 4425 \n",
       "Q 1341 4750 2034 4750 \n",
       "Q 2731 4750 3128 4425 \n",
       "Q 3525 4100 3525 3541 \n",
       "Q 3525 3141 3298 2862 \n",
       "Q 3072 2584 2669 2484 \n",
       "Q 3125 2378 3379 2068 \n",
       "Q 3634 1759 3634 1313 \n",
       "Q 3634 634 3220 271 \n",
       "Q 2806 -91 2034 -91 \n",
       "Q 1263 -91 848 271 \n",
       "Q 434 634 434 1313 \n",
       "Q 434 1759 690 2068 \n",
       "Q 947 2378 1403 2484 \n",
       "z\n",
       "M 1172 3481 \n",
       "Q 1172 3119 1398 2916 \n",
       "Q 1625 2713 2034 2713 \n",
       "Q 2441 2713 2670 2916 \n",
       "Q 2900 3119 2900 3481 \n",
       "Q 2900 3844 2670 4047 \n",
       "Q 2441 4250 2034 4250 \n",
       "Q 1625 4250 1398 4047 \n",
       "Q 1172 3844 1172 3481 \n",
       "z\n",
       "\" transform=\"scale(0.015625)\"/>\n",
       "       </defs>\n",
       "       <use xlink:href=\"#DejaVuSans-38\"/>\n",
       "       <use xlink:href=\"#DejaVuSans-30\" x=\"63.623047\"/>\n",
       "       <use xlink:href=\"#DejaVuSans-30\" x=\"127.246094\"/>\n",
       "       <use xlink:href=\"#DejaVuSans-30\" x=\"190.869141\"/>\n",
       "      </g>\n",
       "     </g>\n",
       "    </g>\n",
       "    <g id=\"xtick_5\">\n",
       "     <g id=\"line2d_9\">\n",
       "      <path d=\"M 411.148046 495.07845 \n",
       "L 411.148046 28.51845 \n",
       "\" clip-path=\"url(#p072344df87)\" style=\"fill: none; stroke: #cbcbcb\"/>\n",
       "     </g>\n",
       "     <g id=\"line2d_10\"/>\n",
       "     <g id=\"text_5\">\n",
       "      <!-- 10000 -->\n",
       "      <g transform=\"translate(388.879296 509.216263) scale(0.14 -0.14)\">\n",
       "       <defs>\n",
       "        <path id=\"DejaVuSans-31\" d=\"M 794 531 \n",
       "L 1825 531 \n",
       "L 1825 4091 \n",
       "L 703 3866 \n",
       "L 703 4441 \n",
       "L 1819 4666 \n",
       "L 2450 4666 \n",
       "L 2450 531 \n",
       "L 3481 531 \n",
       "L 3481 0 \n",
       "L 794 0 \n",
       "L 794 531 \n",
       "z\n",
       "\" transform=\"scale(0.015625)\"/>\n",
       "       </defs>\n",
       "       <use xlink:href=\"#DejaVuSans-31\"/>\n",
       "       <use xlink:href=\"#DejaVuSans-30\" x=\"63.623047\"/>\n",
       "       <use xlink:href=\"#DejaVuSans-30\" x=\"127.246094\"/>\n",
       "       <use xlink:href=\"#DejaVuSans-30\" x=\"190.869141\"/>\n",
       "       <use xlink:href=\"#DejaVuSans-30\" x=\"254.492188\"/>\n",
       "      </g>\n",
       "     </g>\n",
       "    </g>\n",
       "    <g id=\"xtick_6\">\n",
       "     <g id=\"line2d_11\">\n",
       "      <path d=\"M 491.801618 495.07845 \n",
       "L 491.801618 28.51845 \n",
       "\" clip-path=\"url(#p072344df87)\" style=\"fill: none; stroke: #cbcbcb\"/>\n",
       "     </g>\n",
       "     <g id=\"line2d_12\"/>\n",
       "     <g id=\"text_6\">\n",
       "      <!-- 12000 -->\n",
       "      <g transform=\"translate(469.532868 509.216263) scale(0.14 -0.14)\">\n",
       "       <use xlink:href=\"#DejaVuSans-31\"/>\n",
       "       <use xlink:href=\"#DejaVuSans-32\" x=\"63.623047\"/>\n",
       "       <use xlink:href=\"#DejaVuSans-30\" x=\"127.246094\"/>\n",
       "       <use xlink:href=\"#DejaVuSans-30\" x=\"190.869141\"/>\n",
       "       <use xlink:href=\"#DejaVuSans-30\" x=\"254.492188\"/>\n",
       "      </g>\n",
       "     </g>\n",
       "    </g>\n",
       "    <g id=\"xtick_7\">\n",
       "     <g id=\"line2d_13\">\n",
       "      <path d=\"M 572.45519 495.07845 \n",
       "L 572.45519 28.51845 \n",
       "\" clip-path=\"url(#p072344df87)\" style=\"fill: none; stroke: #cbcbcb\"/>\n",
       "     </g>\n",
       "     <g id=\"line2d_14\"/>\n",
       "     <g id=\"text_7\">\n",
       "      <!-- 14000 -->\n",
       "      <g transform=\"translate(550.18644 509.216263) scale(0.14 -0.14)\">\n",
       "       <use xlink:href=\"#DejaVuSans-31\"/>\n",
       "       <use xlink:href=\"#DejaVuSans-34\" x=\"63.623047\"/>\n",
       "       <use xlink:href=\"#DejaVuSans-30\" x=\"127.246094\"/>\n",
       "       <use xlink:href=\"#DejaVuSans-30\" x=\"190.869141\"/>\n",
       "       <use xlink:href=\"#DejaVuSans-30\" x=\"254.492188\"/>\n",
       "      </g>\n",
       "     </g>\n",
       "    </g>\n",
       "    <g id=\"xtick_8\">\n",
       "     <g id=\"line2d_15\">\n",
       "      <path d=\"M 653.108762 495.07845 \n",
       "L 653.108762 28.51845 \n",
       "\" clip-path=\"url(#p072344df87)\" style=\"fill: none; stroke: #cbcbcb\"/>\n",
       "     </g>\n",
       "     <g id=\"line2d_16\"/>\n",
       "     <g id=\"text_8\">\n",
       "      <!-- 16000 -->\n",
       "      <g transform=\"translate(630.840012 509.216263) scale(0.14 -0.14)\">\n",
       "       <use xlink:href=\"#DejaVuSans-31\"/>\n",
       "       <use xlink:href=\"#DejaVuSans-36\" x=\"63.623047\"/>\n",
       "       <use xlink:href=\"#DejaVuSans-30\" x=\"127.246094\"/>\n",
       "       <use xlink:href=\"#DejaVuSans-30\" x=\"190.869141\"/>\n",
       "       <use xlink:href=\"#DejaVuSans-30\" x=\"254.492188\"/>\n",
       "      </g>\n",
       "     </g>\n",
       "    </g>\n",
       "    <g id=\"text_9\">\n",
       "     <!-- Impressions -->\n",
       "     <g transform=\"translate(320.531625 528.8932) scale(0.168 -0.168)\">\n",
       "      <defs>\n",
       "       <path id=\"DejaVuSans-49\" d=\"M 628 4666 \n",
       "L 1259 4666 \n",
       "L 1259 0 \n",
       "L 628 0 \n",
       "L 628 4666 \n",
       "z\n",
       "\" transform=\"scale(0.015625)\"/>\n",
       "       <path id=\"DejaVuSans-6d\" d=\"M 3328 2828 \n",
       "Q 3544 3216 3844 3400 \n",
       "Q 4144 3584 4550 3584 \n",
       "Q 5097 3584 5394 3201 \n",
       "Q 5691 2819 5691 2113 \n",
       "L 5691 0 \n",
       "L 5113 0 \n",
       "L 5113 2094 \n",
       "Q 5113 2597 4934 2840 \n",
       "Q 4756 3084 4391 3084 \n",
       "Q 3944 3084 3684 2787 \n",
       "Q 3425 2491 3425 1978 \n",
       "L 3425 0 \n",
       "L 2847 0 \n",
       "L 2847 2094 \n",
       "Q 2847 2600 2669 2842 \n",
       "Q 2491 3084 2119 3084 \n",
       "Q 1678 3084 1418 2786 \n",
       "Q 1159 2488 1159 1978 \n",
       "L 1159 0 \n",
       "L 581 0 \n",
       "L 581 3500 \n",
       "L 1159 3500 \n",
       "L 1159 2956 \n",
       "Q 1356 3278 1631 3431 \n",
       "Q 1906 3584 2284 3584 \n",
       "Q 2666 3584 2933 3390 \n",
       "Q 3200 3197 3328 2828 \n",
       "z\n",
       "\" transform=\"scale(0.015625)\"/>\n",
       "       <path id=\"DejaVuSans-70\" d=\"M 1159 525 \n",
       "L 1159 -1331 \n",
       "L 581 -1331 \n",
       "L 581 3500 \n",
       "L 1159 3500 \n",
       "L 1159 2969 \n",
       "Q 1341 3281 1617 3432 \n",
       "Q 1894 3584 2278 3584 \n",
       "Q 2916 3584 3314 3078 \n",
       "Q 3713 2572 3713 1747 \n",
       "Q 3713 922 3314 415 \n",
       "Q 2916 -91 2278 -91 \n",
       "Q 1894 -91 1617 61 \n",
       "Q 1341 213 1159 525 \n",
       "z\n",
       "M 3116 1747 \n",
       "Q 3116 2381 2855 2742 \n",
       "Q 2594 3103 2138 3103 \n",
       "Q 1681 3103 1420 2742 \n",
       "Q 1159 2381 1159 1747 \n",
       "Q 1159 1113 1420 752 \n",
       "Q 1681 391 2138 391 \n",
       "Q 2594 391 2855 752 \n",
       "Q 3116 1113 3116 1747 \n",
       "z\n",
       "\" transform=\"scale(0.015625)\"/>\n",
       "       <path id=\"DejaVuSans-72\" d=\"M 2631 2963 \n",
       "Q 2534 3019 2420 3045 \n",
       "Q 2306 3072 2169 3072 \n",
       "Q 1681 3072 1420 2755 \n",
       "Q 1159 2438 1159 1844 \n",
       "L 1159 0 \n",
       "L 581 0 \n",
       "L 581 3500 \n",
       "L 1159 3500 \n",
       "L 1159 2956 \n",
       "Q 1341 3275 1631 3429 \n",
       "Q 1922 3584 2338 3584 \n",
       "Q 2397 3584 2469 3576 \n",
       "Q 2541 3569 2628 3553 \n",
       "L 2631 2963 \n",
       "z\n",
       "\" transform=\"scale(0.015625)\"/>\n",
       "       <path id=\"DejaVuSans-65\" d=\"M 3597 1894 \n",
       "L 3597 1613 \n",
       "L 953 1613 \n",
       "Q 991 1019 1311 708 \n",
       "Q 1631 397 2203 397 \n",
       "Q 2534 397 2845 478 \n",
       "Q 3156 559 3463 722 \n",
       "L 3463 178 \n",
       "Q 3153 47 2828 -22 \n",
       "Q 2503 -91 2169 -91 \n",
       "Q 1331 -91 842 396 \n",
       "Q 353 884 353 1716 \n",
       "Q 353 2575 817 3079 \n",
       "Q 1281 3584 2069 3584 \n",
       "Q 2775 3584 3186 3129 \n",
       "Q 3597 2675 3597 1894 \n",
       "z\n",
       "M 3022 2063 \n",
       "Q 3016 2534 2758 2815 \n",
       "Q 2500 3097 2075 3097 \n",
       "Q 1594 3097 1305 2825 \n",
       "Q 1016 2553 972 2059 \n",
       "L 3022 2063 \n",
       "z\n",
       "\" transform=\"scale(0.015625)\"/>\n",
       "       <path id=\"DejaVuSans-73\" d=\"M 2834 3397 \n",
       "L 2834 2853 \n",
       "Q 2591 2978 2328 3040 \n",
       "Q 2066 3103 1784 3103 \n",
       "Q 1356 3103 1142 2972 \n",
       "Q 928 2841 928 2578 \n",
       "Q 928 2378 1081 2264 \n",
       "Q 1234 2150 1697 2047 \n",
       "L 1894 2003 \n",
       "Q 2506 1872 2764 1633 \n",
       "Q 3022 1394 3022 966 \n",
       "Q 3022 478 2636 193 \n",
       "Q 2250 -91 1575 -91 \n",
       "Q 1294 -91 989 -36 \n",
       "Q 684 19 347 128 \n",
       "L 347 722 \n",
       "Q 666 556 975 473 \n",
       "Q 1284 391 1588 391 \n",
       "Q 1994 391 2212 530 \n",
       "Q 2431 669 2431 922 \n",
       "Q 2431 1156 2273 1281 \n",
       "Q 2116 1406 1581 1522 \n",
       "L 1381 1569 \n",
       "Q 847 1681 609 1914 \n",
       "Q 372 2147 372 2553 \n",
       "Q 372 3047 722 3315 \n",
       "Q 1072 3584 1716 3584 \n",
       "Q 2034 3584 2315 3537 \n",
       "Q 2597 3491 2834 3397 \n",
       "z\n",
       "\" transform=\"scale(0.015625)\"/>\n",
       "       <path id=\"DejaVuSans-69\" d=\"M 603 3500 \n",
       "L 1178 3500 \n",
       "L 1178 0 \n",
       "L 603 0 \n",
       "L 603 3500 \n",
       "z\n",
       "M 603 4863 \n",
       "L 1178 4863 \n",
       "L 1178 4134 \n",
       "L 603 4134 \n",
       "L 603 4863 \n",
       "z\n",
       "\" transform=\"scale(0.015625)\"/>\n",
       "       <path id=\"DejaVuSans-6f\" d=\"M 1959 3097 \n",
       "Q 1497 3097 1228 2736 \n",
       "Q 959 2375 959 1747 \n",
       "Q 959 1119 1226 758 \n",
       "Q 1494 397 1959 397 \n",
       "Q 2419 397 2687 759 \n",
       "Q 2956 1122 2956 1747 \n",
       "Q 2956 2369 2687 2733 \n",
       "Q 2419 3097 1959 3097 \n",
       "z\n",
       "M 1959 3584 \n",
       "Q 2709 3584 3137 3096 \n",
       "Q 3566 2609 3566 1747 \n",
       "Q 3566 888 3137 398 \n",
       "Q 2709 -91 1959 -91 \n",
       "Q 1206 -91 779 398 \n",
       "Q 353 888 353 1747 \n",
       "Q 353 2609 779 3096 \n",
       "Q 1206 3584 1959 3584 \n",
       "z\n",
       "\" transform=\"scale(0.015625)\"/>\n",
       "       <path id=\"DejaVuSans-6e\" d=\"M 3513 2113 \n",
       "L 3513 0 \n",
       "L 2938 0 \n",
       "L 2938 2094 \n",
       "Q 2938 2591 2744 2837 \n",
       "Q 2550 3084 2163 3084 \n",
       "Q 1697 3084 1428 2787 \n",
       "Q 1159 2491 1159 1978 \n",
       "L 1159 0 \n",
       "L 581 0 \n",
       "L 581 3500 \n",
       "L 1159 3500 \n",
       "L 1159 2956 \n",
       "Q 1366 3272 1645 3428 \n",
       "Q 1925 3584 2291 3584 \n",
       "Q 2894 3584 3203 3211 \n",
       "Q 3513 2838 3513 2113 \n",
       "z\n",
       "\" transform=\"scale(0.015625)\"/>\n",
       "      </defs>\n",
       "      <use xlink:href=\"#DejaVuSans-49\"/>\n",
       "      <use xlink:href=\"#DejaVuSans-6d\" x=\"29.492188\"/>\n",
       "      <use xlink:href=\"#DejaVuSans-70\" x=\"126.904297\"/>\n",
       "      <use xlink:href=\"#DejaVuSans-72\" x=\"190.380859\"/>\n",
       "      <use xlink:href=\"#DejaVuSans-65\" x=\"229.244141\"/>\n",
       "      <use xlink:href=\"#DejaVuSans-73\" x=\"290.767578\"/>\n",
       "      <use xlink:href=\"#DejaVuSans-73\" x=\"342.867188\"/>\n",
       "      <use xlink:href=\"#DejaVuSans-69\" x=\"394.966797\"/>\n",
       "      <use xlink:href=\"#DejaVuSans-6f\" x=\"422.75\"/>\n",
       "      <use xlink:href=\"#DejaVuSans-6e\" x=\"483.931641\"/>\n",
       "      <use xlink:href=\"#DejaVuSans-73\" x=\"547.310547\"/>\n",
       "     </g>\n",
       "    </g>\n",
       "   </g>\n",
       "   <g id=\"matplotlib.axis_2\">\n",
       "    <g id=\"ytick_1\">\n",
       "     <g id=\"line2d_17\">\n",
       "      <path d=\"M 57.68175 445.929481 \n",
       "L 684.08175 445.929481 \n",
       "\" clip-path=\"url(#p072344df87)\" style=\"fill: none; stroke: #cbcbcb\"/>\n",
       "     </g>\n",
       "     <g id=\"line2d_18\"/>\n",
       "     <g id=\"text_10\">\n",
       "      <!-- 100 -->\n",
       "      <g transform=\"translate(27.45925 451.248387) scale(0.14 -0.14)\">\n",
       "       <use xlink:href=\"#DejaVuSans-31\"/>\n",
       "       <use xlink:href=\"#DejaVuSans-30\" x=\"63.623047\"/>\n",
       "       <use xlink:href=\"#DejaVuSans-30\" x=\"127.246094\"/>\n",
       "      </g>\n",
       "     </g>\n",
       "    </g>\n",
       "    <g id=\"ytick_2\">\n",
       "     <g id=\"line2d_19\">\n",
       "      <path d=\"M 57.68175 346.137709 \n",
       "L 684.08175 346.137709 \n",
       "\" clip-path=\"url(#p072344df87)\" style=\"fill: none; stroke: #cbcbcb\"/>\n",
       "     </g>\n",
       "     <g id=\"line2d_20\"/>\n",
       "     <g id=\"text_11\">\n",
       "      <!-- 200 -->\n",
       "      <g transform=\"translate(27.45925 351.456616) scale(0.14 -0.14)\">\n",
       "       <use xlink:href=\"#DejaVuSans-32\"/>\n",
       "       <use xlink:href=\"#DejaVuSans-30\" x=\"63.623047\"/>\n",
       "       <use xlink:href=\"#DejaVuSans-30\" x=\"127.246094\"/>\n",
       "      </g>\n",
       "     </g>\n",
       "    </g>\n",
       "    <g id=\"ytick_3\">\n",
       "     <g id=\"line2d_21\">\n",
       "      <path d=\"M 57.68175 246.345938 \n",
       "L 684.08175 246.345938 \n",
       "\" clip-path=\"url(#p072344df87)\" style=\"fill: none; stroke: #cbcbcb\"/>\n",
       "     </g>\n",
       "     <g id=\"line2d_22\"/>\n",
       "     <g id=\"text_12\">\n",
       "      <!-- 300 -->\n",
       "      <g transform=\"translate(27.45925 251.664844) scale(0.14 -0.14)\">\n",
       "       <defs>\n",
       "        <path id=\"DejaVuSans-33\" d=\"M 2597 2516 \n",
       "Q 3050 2419 3304 2112 \n",
       "Q 3559 1806 3559 1356 \n",
       "Q 3559 666 3084 287 \n",
       "Q 2609 -91 1734 -91 \n",
       "Q 1441 -91 1130 -33 \n",
       "Q 819 25 488 141 \n",
       "L 488 750 \n",
       "Q 750 597 1062 519 \n",
       "Q 1375 441 1716 441 \n",
       "Q 2309 441 2620 675 \n",
       "Q 2931 909 2931 1356 \n",
       "Q 2931 1769 2642 2001 \n",
       "Q 2353 2234 1838 2234 \n",
       "L 1294 2234 \n",
       "L 1294 2753 \n",
       "L 1863 2753 \n",
       "Q 2328 2753 2575 2939 \n",
       "Q 2822 3125 2822 3475 \n",
       "Q 2822 3834 2567 4026 \n",
       "Q 2313 4219 1838 4219 \n",
       "Q 1578 4219 1281 4162 \n",
       "Q 984 4106 628 3988 \n",
       "L 628 4550 \n",
       "Q 988 4650 1302 4700 \n",
       "Q 1616 4750 1894 4750 \n",
       "Q 2613 4750 3031 4423 \n",
       "Q 3450 4097 3450 3541 \n",
       "Q 3450 3153 3228 2886 \n",
       "Q 3006 2619 2597 2516 \n",
       "z\n",
       "\" transform=\"scale(0.015625)\"/>\n",
       "       </defs>\n",
       "       <use xlink:href=\"#DejaVuSans-33\"/>\n",
       "       <use xlink:href=\"#DejaVuSans-30\" x=\"63.623047\"/>\n",
       "       <use xlink:href=\"#DejaVuSans-30\" x=\"127.246094\"/>\n",
       "      </g>\n",
       "     </g>\n",
       "    </g>\n",
       "    <g id=\"ytick_4\">\n",
       "     <g id=\"line2d_23\">\n",
       "      <path d=\"M 57.68175 146.554166 \n",
       "L 684.08175 146.554166 \n",
       "\" clip-path=\"url(#p072344df87)\" style=\"fill: none; stroke: #cbcbcb\"/>\n",
       "     </g>\n",
       "     <g id=\"line2d_24\"/>\n",
       "     <g id=\"text_13\">\n",
       "      <!-- 400 -->\n",
       "      <g transform=\"translate(27.45925 151.873072) scale(0.14 -0.14)\">\n",
       "       <use xlink:href=\"#DejaVuSans-34\"/>\n",
       "       <use xlink:href=\"#DejaVuSans-30\" x=\"63.623047\"/>\n",
       "       <use xlink:href=\"#DejaVuSans-30\" x=\"127.246094\"/>\n",
       "      </g>\n",
       "     </g>\n",
       "    </g>\n",
       "    <g id=\"ytick_5\">\n",
       "     <g id=\"line2d_25\">\n",
       "      <path d=\"M 57.68175 46.762394 \n",
       "L 684.08175 46.762394 \n",
       "\" clip-path=\"url(#p072344df87)\" style=\"fill: none; stroke: #cbcbcb\"/>\n",
       "     </g>\n",
       "     <g id=\"line2d_26\"/>\n",
       "     <g id=\"text_14\">\n",
       "      <!-- 500 -->\n",
       "      <g transform=\"translate(27.45925 52.0813) scale(0.14 -0.14)\">\n",
       "       <defs>\n",
       "        <path id=\"DejaVuSans-35\" d=\"M 691 4666 \n",
       "L 3169 4666 \n",
       "L 3169 4134 \n",
       "L 1269 4134 \n",
       "L 1269 2991 \n",
       "Q 1406 3038 1543 3061 \n",
       "Q 1681 3084 1819 3084 \n",
       "Q 2600 3084 3056 2656 \n",
       "Q 3513 2228 3513 1497 \n",
       "Q 3513 744 3044 326 \n",
       "Q 2575 -91 1722 -91 \n",
       "Q 1428 -91 1123 -41 \n",
       "Q 819 9 494 109 \n",
       "L 494 744 \n",
       "Q 775 591 1075 516 \n",
       "Q 1375 441 1709 441 \n",
       "Q 2250 441 2565 725 \n",
       "Q 2881 1009 2881 1497 \n",
       "Q 2881 1984 2565 2268 \n",
       "Q 2250 2553 1709 2553 \n",
       "Q 1456 2553 1204 2497 \n",
       "Q 953 2441 691 2322 \n",
       "L 691 4666 \n",
       "z\n",
       "\" transform=\"scale(0.015625)\"/>\n",
       "       </defs>\n",
       "       <use xlink:href=\"#DejaVuSans-35\"/>\n",
       "       <use xlink:href=\"#DejaVuSans-30\" x=\"63.623047\"/>\n",
       "       <use xlink:href=\"#DejaVuSans-30\" x=\"127.246094\"/>\n",
       "      </g>\n",
       "     </g>\n",
       "    </g>\n",
       "    <g id=\"text_15\">\n",
       "     <!-- Likes -->\n",
       "     <g transform=\"translate(19.965375 282.916575) rotate(-90) scale(0.168 -0.168)\">\n",
       "      <defs>\n",
       "       <path id=\"DejaVuSans-4c\" d=\"M 628 4666 \n",
       "L 1259 4666 \n",
       "L 1259 531 \n",
       "L 3531 531 \n",
       "L 3531 0 \n",
       "L 628 0 \n",
       "L 628 4666 \n",
       "z\n",
       "\" transform=\"scale(0.015625)\"/>\n",
       "       <path id=\"DejaVuSans-6b\" d=\"M 581 4863 \n",
       "L 1159 4863 \n",
       "L 1159 1991 \n",
       "L 2875 3500 \n",
       "L 3609 3500 \n",
       "L 1753 1863 \n",
       "L 3688 0 \n",
       "L 2938 0 \n",
       "L 1159 1709 \n",
       "L 1159 0 \n",
       "L 581 0 \n",
       "L 581 4863 \n",
       "z\n",
       "\" transform=\"scale(0.015625)\"/>\n",
       "      </defs>\n",
       "      <use xlink:href=\"#DejaVuSans-4c\"/>\n",
       "      <use xlink:href=\"#DejaVuSans-69\" x=\"55.712891\"/>\n",
       "      <use xlink:href=\"#DejaVuSans-6b\" x=\"83.496094\"/>\n",
       "      <use xlink:href=\"#DejaVuSans-65\" x=\"137.78125\"/>\n",
       "      <use xlink:href=\"#DejaVuSans-73\" x=\"199.304688\"/>\n",
       "     </g>\n",
       "    </g>\n",
       "   </g>\n",
       "   <g id=\"PathCollection_1\">\n",
       "    <defs>\n",
       "     <path id=\"m23cd002dc4\" d=\"M 0 3 \n",
       "C 0.795609 3 1.55874 2.683901 2.12132 2.12132 \n",
       "C 2.683901 1.55874 3 0.795609 3 0 \n",
       "C 3 -0.795609 2.683901 -1.55874 2.12132 -2.12132 \n",
       "C 1.55874 -2.683901 0.795609 -3 0 -3 \n",
       "C -0.795609 -3 -1.55874 -2.683901 -2.12132 -2.12132 \n",
       "C -2.683901 -1.55874 -3 -0.795609 -3 0 \n",
       "C -3 0.795609 -2.683901 1.55874 -2.12132 2.12132 \n",
       "C -1.55874 2.683901 -0.795609 3 0 3 \n",
       "z\n",
       "\" style=\"stroke: #008fd5; stroke-opacity: 0.8\"/>\n",
       "    </defs>\n",
       "    <g clip-path=\"url(#p072344df87)\">\n",
       "     <use xlink:href=\"#m23cd002dc4\" x=\"165.961187\" y=\"384.058583\" style=\"fill: #008fd5; fill-opacity: 0.8; stroke: #008fd5; stroke-opacity: 0.8\"/>\n",
       "     <use xlink:href=\"#m23cd002dc4\" x=\"225.402869\" y=\"322.187684\" style=\"fill: #008fd5; fill-opacity: 0.8; stroke: #008fd5; stroke-opacity: 0.8\"/>\n",
       "     <use xlink:href=\"#m23cd002dc4\" x=\"170.034192\" y=\"414.994032\" style=\"fill: #008fd5; fill-opacity: 0.8; stroke: #008fd5; stroke-opacity: 0.8\"/>\n",
       "     <use xlink:href=\"#m23cd002dc4\" x=\"190.479873\" y=\"333.164779\" style=\"fill: #008fd5; fill-opacity: 0.8; stroke: #008fd5; stroke-opacity: 0.8\"/>\n",
       "     <use xlink:href=\"#m23cd002dc4\" x=\"109.423033\" y=\"422.977374\" style=\"fill: #008fd5; fill-opacity: 0.8; stroke: #008fd5; stroke-opacity: 0.8\"/>\n",
       "     <use xlink:href=\"#m23cd002dc4\" x=\"164.509423\" y=\"402.021102\" style=\"fill: #008fd5; fill-opacity: 0.8; stroke: #008fd5; stroke-opacity: 0.8\"/>\n",
       "     <use xlink:href=\"#m23cd002dc4\" x=\"113.576692\" y=\"469.879506\" style=\"fill: #008fd5; fill-opacity: 0.8; stroke: #008fd5; stroke-opacity: 0.8\"/>\n",
       "     <use xlink:href=\"#m23cd002dc4\" x=\"150.677335\" y=\"421.979456\" style=\"fill: #008fd5; fill-opacity: 0.8; stroke: #008fd5; stroke-opacity: 0.8\"/>\n",
       "     <use xlink:href=\"#m23cd002dc4\" x=\"159.065306\" y=\"387.052336\" style=\"fill: #008fd5; fill-opacity: 0.8; stroke: #008fd5; stroke-opacity: 0.8\"/>\n",
       "     <use xlink:href=\"#m23cd002dc4\" x=\"173.82491\" y=\"355.118969\" style=\"fill: #008fd5; fill-opacity: 0.8; stroke: #008fd5; stroke-opacity: 0.8\"/>\n",
       "     <use xlink:href=\"#m23cd002dc4\" x=\"97.324997\" y=\"464.889918\" style=\"fill: #008fd5; fill-opacity: 0.8; stroke: #008fd5; stroke-opacity: 0.8\"/>\n",
       "     <use xlink:href=\"#m23cd002dc4\" x=\"138.297012\" y=\"395.035678\" style=\"fill: #008fd5; fill-opacity: 0.8; stroke: #008fd5; stroke-opacity: 0.8\"/>\n",
       "     <use xlink:href=\"#m23cd002dc4\" x=\"183.059744\" y=\"384.058583\" style=\"fill: #008fd5; fill-opacity: 0.8; stroke: #008fd5; stroke-opacity: 0.8\"/>\n",
       "     <use xlink:href=\"#m23cd002dc4\" x=\"137.571129\" y=\"404.016937\" style=\"fill: #008fd5; fill-opacity: 0.8; stroke: #008fd5; stroke-opacity: 0.8\"/>\n",
       "     <use xlink:href=\"#m23cd002dc4\" x=\"389.089294\" y=\"252.333444\" style=\"fill: #008fd5; fill-opacity: 0.8; stroke: #008fd5; stroke-opacity: 0.8\"/>\n",
       "     <use xlink:href=\"#m23cd002dc4\" x=\"211.732089\" y=\"387.052336\" style=\"fill: #008fd5; fill-opacity: 0.8; stroke: #008fd5; stroke-opacity: 0.8\"/>\n",
       "     <use xlink:href=\"#m23cd002dc4\" x=\"169.267983\" y=\"341.148121\" style=\"fill: #008fd5; fill-opacity: 0.8; stroke: #008fd5; stroke-opacity: 0.8\"/>\n",
       "     <use xlink:href=\"#m23cd002dc4\" x=\"135.675771\" y=\"424.973209\" style=\"fill: #008fd5; fill-opacity: 0.8; stroke: #008fd5; stroke-opacity: 0.8\"/>\n",
       "     <use xlink:href=\"#m23cd002dc4\" x=\"256.615802\" y=\"395.035678\" style=\"fill: #008fd5; fill-opacity: 0.8; stroke: #008fd5; stroke-opacity: 0.8\"/>\n",
       "     <use xlink:href=\"#m23cd002dc4\" x=\"104.94676\" y=\"473.871177\" style=\"fill: #008fd5; fill-opacity: 0.8; stroke: #008fd5; stroke-opacity: 0.8\"/>\n",
       "     <use xlink:href=\"#m23cd002dc4\" x=\"91.114672\" y=\"469.879506\" style=\"fill: #008fd5; fill-opacity: 0.8; stroke: #008fd5; stroke-opacity: 0.8\"/>\n",
       "     <use xlink:href=\"#m23cd002dc4\" x=\"168.098506\" y=\"454.910741\" style=\"fill: #008fd5; fill-opacity: 0.8; stroke: #008fd5; stroke-opacity: 0.8\"/>\n",
       "     <use xlink:href=\"#m23cd002dc4\" x=\"301.499515\" y=\"351.127298\" style=\"fill: #008fd5; fill-opacity: 0.8; stroke: #008fd5; stroke-opacity: 0.8\"/>\n",
       "     <use xlink:href=\"#m23cd002dc4\" x=\"130.957537\" y=\"416.989867\" style=\"fill: #008fd5; fill-opacity: 0.8; stroke: #008fd5; stroke-opacity: 0.8\"/>\n",
       "     <use xlink:href=\"#m23cd002dc4\" x=\"194.512551\" y=\"386.054418\" style=\"fill: #008fd5; fill-opacity: 0.8; stroke: #008fd5; stroke-opacity: 0.8\"/>\n",
       "     <use xlink:href=\"#m23cd002dc4\" x=\"172.494126\" y=\"371.085652\" style=\"fill: #008fd5; fill-opacity: 0.8; stroke: #008fd5; stroke-opacity: 0.8\"/>\n",
       "     <use xlink:href=\"#m23cd002dc4\" x=\"225.402869\" y=\"399.027348\" style=\"fill: #008fd5; fill-opacity: 0.8; stroke: #008fd5; stroke-opacity: 0.8\"/>\n",
       "     <use xlink:href=\"#m23cd002dc4\" x=\"119.424076\" y=\"431.958633\" style=\"fill: #008fd5; fill-opacity: 0.8; stroke: #008fd5; stroke-opacity: 0.8\"/>\n",
       "     <use xlink:href=\"#m23cd002dc4\" x=\"166.122494\" y=\"395.035678\" style=\"fill: #008fd5; fill-opacity: 0.8; stroke: #008fd5; stroke-opacity: 0.8\"/>\n",
       "     <use xlink:href=\"#m23cd002dc4\" x=\"129.465445\" y=\"453.912823\" style=\"fill: #008fd5; fill-opacity: 0.8; stroke: #008fd5; stroke-opacity: 0.8\"/>\n",
       "     <use xlink:href=\"#m23cd002dc4\" x=\"276.698541\" y=\"332.166861\" style=\"fill: #008fd5; fill-opacity: 0.8; stroke: #008fd5; stroke-opacity: 0.8\"/>\n",
       "     <use xlink:href=\"#m23cd002dc4\" x=\"163.299619\" y=\"396.033595\" style=\"fill: #008fd5; fill-opacity: 0.8; stroke: #008fd5; stroke-opacity: 0.8\"/>\n",
       "     <use xlink:href=\"#m23cd002dc4\" x=\"183.503339\" y=\"423.975291\" style=\"fill: #008fd5; fill-opacity: 0.8; stroke: #008fd5; stroke-opacity: 0.8\"/>\n",
       "     <use xlink:href=\"#m23cd002dc4\" x=\"183.019417\" y=\"394.03776\" style=\"fill: #008fd5; fill-opacity: 0.8; stroke: #008fd5; stroke-opacity: 0.8\"/>\n",
       "     <use xlink:href=\"#m23cd002dc4\" x=\"254.196195\" y=\"350.12938\" style=\"fill: #008fd5; fill-opacity: 0.8; stroke: #008fd5; stroke-opacity: 0.8\"/>\n",
       "     <use xlink:href=\"#m23cd002dc4\" x=\"109.624667\" y=\"459.900329\" style=\"fill: #008fd5; fill-opacity: 0.8; stroke: #008fd5; stroke-opacity: 0.8\"/>\n",
       "     <use xlink:href=\"#m23cd002dc4\" x=\"101.720617\" y=\"460.898247\" style=\"fill: #008fd5; fill-opacity: 0.8; stroke: #008fd5; stroke-opacity: 0.8\"/>\n",
       "     <use xlink:href=\"#m23cd002dc4\" x=\"168.784062\" y=\"390.046089\" style=\"fill: #008fd5; fill-opacity: 0.8; stroke: #008fd5; stroke-opacity: 0.8\"/>\n",
       "     <use xlink:href=\"#m23cd002dc4\" x=\"96.236174\" y=\"473.871177\" style=\"fill: #008fd5; fill-opacity: 0.8; stroke: #008fd5; stroke-opacity: 0.8\"/>\n",
       "     <use xlink:href=\"#m23cd002dc4\" x=\"86.154477\" y=\"463.892\" style=\"fill: #008fd5; fill-opacity: 0.8; stroke: #008fd5; stroke-opacity: 0.8\"/>\n",
       "     <use xlink:href=\"#m23cd002dc4\" x=\"655.609023\" y=\"130.587482\" style=\"fill: #008fd5; fill-opacity: 0.8; stroke: #008fd5; stroke-opacity: 0.8\"/>\n",
       "     <use xlink:href=\"#m23cd002dc4\" x=\"209.433462\" y=\"366.096064\" style=\"fill: #008fd5; fill-opacity: 0.8; stroke: #008fd5; stroke-opacity: 0.8\"/>\n",
       "     <use xlink:href=\"#m23cd002dc4\" x=\"180.841771\" y=\"396.033595\" style=\"fill: #008fd5; fill-opacity: 0.8; stroke: #008fd5; stroke-opacity: 0.8\"/>\n",
       "     <use xlink:href=\"#m23cd002dc4\" x=\"164.348115\" y=\"418.985703\" style=\"fill: #008fd5; fill-opacity: 0.8; stroke: #008fd5; stroke-opacity: 0.8\"/>\n",
       "     <use xlink:href=\"#m23cd002dc4\" x=\"160.557397\" y=\"379.068994\" style=\"fill: #008fd5; fill-opacity: 0.8; stroke: #008fd5; stroke-opacity: 0.8\"/>\n",
       "     <use xlink:href=\"#m23cd002dc4\" x=\"181.204712\" y=\"321.189766\" style=\"fill: #008fd5; fill-opacity: 0.8; stroke: #008fd5; stroke-opacity: 0.8\"/>\n",
       "     <use xlink:href=\"#m23cd002dc4\" x=\"154.266419\" y=\"409.006526\" style=\"fill: #008fd5; fill-opacity: 0.8; stroke: #008fd5; stroke-opacity: 0.8\"/>\n",
       "     <use xlink:href=\"#m23cd002dc4\" x=\"121.843683\" y=\"431.958633\" style=\"fill: #008fd5; fill-opacity: 0.8; stroke: #008fd5; stroke-opacity: 0.8\"/>\n",
       "     <use xlink:href=\"#m23cd002dc4\" x=\"306.58069\" y=\"283.268893\" style=\"fill: #008fd5; fill-opacity: 0.8; stroke: #008fd5; stroke-opacity: 0.8\"/>\n",
       "     <use xlink:href=\"#m23cd002dc4\" x=\"426.714185\" y=\"218.404241\" style=\"fill: #008fd5; fill-opacity: 0.8; stroke: #008fd5; stroke-opacity: 0.8\"/>\n",
       "     <use xlink:href=\"#m23cd002dc4\" x=\"128.77989\" y=\"419.98362\" style=\"fill: #008fd5; fill-opacity: 0.8; stroke: #008fd5; stroke-opacity: 0.8\"/>\n",
       "     <use xlink:href=\"#m23cd002dc4\" x=\"290.89357\" y=\"310.212671\" style=\"fill: #008fd5; fill-opacity: 0.8; stroke: #008fd5; stroke-opacity: 0.8\"/>\n",
       "     <use xlink:href=\"#m23cd002dc4\" x=\"126.481263\" y=\"446.927399\" style=\"fill: #008fd5; fill-opacity: 0.8; stroke: #008fd5; stroke-opacity: 0.8\"/>\n",
       "     <use xlink:href=\"#m23cd002dc4\" x=\"267.262073\" y=\"334.162697\" style=\"fill: #008fd5; fill-opacity: 0.8; stroke: #008fd5; stroke-opacity: 0.8\"/>\n",
       "     <use xlink:href=\"#m23cd002dc4\" x=\"438.046012\" y=\"249.339691\" style=\"fill: #008fd5; fill-opacity: 0.8; stroke: #008fd5; stroke-opacity: 0.8\"/>\n",
       "     <use xlink:href=\"#m23cd002dc4\" x=\"168.703408\" y=\"404.016937\" style=\"fill: #008fd5; fill-opacity: 0.8; stroke: #008fd5; stroke-opacity: 0.8\"/>\n",
       "     <use xlink:href=\"#m23cd002dc4\" x=\"208.626926\" y=\"360.108557\" style=\"fill: #008fd5; fill-opacity: 0.8; stroke: #008fd5; stroke-opacity: 0.8\"/>\n",
       "     <use xlink:href=\"#m23cd002dc4\" x=\"144.507337\" y=\"433.954469\" style=\"fill: #008fd5; fill-opacity: 0.8; stroke: #008fd5; stroke-opacity: 0.8\"/>\n",
       "     <use xlink:href=\"#m23cd002dc4\" x=\"188.019939\" y=\"397.031513\" style=\"fill: #008fd5; fill-opacity: 0.8; stroke: #008fd5; stroke-opacity: 0.8\"/>\n",
       "     <use xlink:href=\"#m23cd002dc4\" x=\"138.780933\" y=\"413.996114\" style=\"fill: #008fd5; fill-opacity: 0.8; stroke: #008fd5; stroke-opacity: 0.8\"/>\n",
       "     <use xlink:href=\"#m23cd002dc4\" x=\"212.417644\" y=\"430.960715\" style=\"fill: #008fd5; fill-opacity: 0.8; stroke: #008fd5; stroke-opacity: 0.8\"/>\n",
       "     <use xlink:href=\"#m23cd002dc4\" x=\"263.511682\" y=\"298.237659\" style=\"fill: #008fd5; fill-opacity: 0.8; stroke: #008fd5; stroke-opacity: 0.8\"/>\n",
       "     <use xlink:href=\"#m23cd002dc4\" x=\"178.825432\" y=\"368.091899\" style=\"fill: #008fd5; fill-opacity: 0.8; stroke: #008fd5; stroke-opacity: 0.8\"/>\n",
       "     <use xlink:href=\"#m23cd002dc4\" x=\"147.168905\" y=\"438.944057\" style=\"fill: #008fd5; fill-opacity: 0.8; stroke: #008fd5; stroke-opacity: 0.8\"/>\n",
       "     <use xlink:href=\"#m23cd002dc4\" x=\"313.194283\" y=\"277.281387\" style=\"fill: #008fd5; fill-opacity: 0.8; stroke: #008fd5; stroke-opacity: 0.8\"/>\n",
       "     <use xlink:href=\"#m23cd002dc4\" x=\"142.289363\" y=\"449.921152\" style=\"fill: #008fd5; fill-opacity: 0.8; stroke: #008fd5; stroke-opacity: 0.8\"/>\n",
       "     <use xlink:href=\"#m23cd002dc4\" x=\"161.847855\" y=\"412.000279\" style=\"fill: #008fd5; fill-opacity: 0.8; stroke: #008fd5; stroke-opacity: 0.8\"/>\n",
       "     <use xlink:href=\"#m23cd002dc4\" x=\"448.772937\" y=\"245.34802\" style=\"fill: #008fd5; fill-opacity: 0.8; stroke: #008fd5; stroke-opacity: 0.8\"/>\n",
       "     <use xlink:href=\"#m23cd002dc4\" x=\"211.853069\" y=\"359.11064\" style=\"fill: #008fd5; fill-opacity: 0.8; stroke: #008fd5; stroke-opacity: 0.8\"/>\n",
       "     <use xlink:href=\"#m23cd002dc4\" x=\"153.096942\" y=\"451.916987\" style=\"fill: #008fd5; fill-opacity: 0.8; stroke: #008fd5; stroke-opacity: 0.8\"/>\n",
       "     <use xlink:href=\"#m23cd002dc4\" x=\"148.217401\" y=\"431.958633\" style=\"fill: #008fd5; fill-opacity: 0.8; stroke: #008fd5; stroke-opacity: 0.8\"/>\n",
       "     <use xlink:href=\"#m23cd002dc4\" x=\"150.032106\" y=\"449.921152\" style=\"fill: #008fd5; fill-opacity: 0.8; stroke: #008fd5; stroke-opacity: 0.8\"/>\n",
       "     <use xlink:href=\"#m23cd002dc4\" x=\"153.298576\" y=\"408.008608\" style=\"fill: #008fd5; fill-opacity: 0.8; stroke: #008fd5; stroke-opacity: 0.8\"/>\n",
       "     <use xlink:href=\"#m23cd002dc4\" x=\"231.371234\" y=\"423.975291\" style=\"fill: #008fd5; fill-opacity: 0.8; stroke: #008fd5; stroke-opacity: 0.8\"/>\n",
       "     <use xlink:href=\"#m23cd002dc4\" x=\"272.383575\" y=\"289.256399\" style=\"fill: #008fd5; fill-opacity: 0.8; stroke: #008fd5; stroke-opacity: 0.8\"/>\n",
       "     <use xlink:href=\"#m23cd002dc4\" x=\"153.984131\" y=\"450.91907\" style=\"fill: #008fd5; fill-opacity: 0.8; stroke: #008fd5; stroke-opacity: 0.8\"/>\n",
       "     <use xlink:href=\"#m23cd002dc4\" x=\"431.029151\" y=\"302.22933\" style=\"fill: #008fd5; fill-opacity: 0.8; stroke: #008fd5; stroke-opacity: 0.8\"/>\n",
       "     <use xlink:href=\"#m23cd002dc4\" x=\"187.173076\" y=\"356.116887\" style=\"fill: #008fd5; fill-opacity: 0.8; stroke: #008fd5; stroke-opacity: 0.8\"/>\n",
       "     <use xlink:href=\"#m23cd002dc4\" x=\"127.126492\" y=\"427.966962\" style=\"fill: #008fd5; fill-opacity: 0.8; stroke: #008fd5; stroke-opacity: 0.8\"/>\n",
       "     <use xlink:href=\"#m23cd002dc4\" x=\"231.209927\" y=\"368.091899\" style=\"fill: #008fd5; fill-opacity: 0.8; stroke: #008fd5; stroke-opacity: 0.8\"/>\n",
       "     <use xlink:href=\"#m23cd002dc4\" x=\"196.649871\" y=\"376.075241\" style=\"fill: #008fd5; fill-opacity: 0.8; stroke: #008fd5; stroke-opacity: 0.8\"/>\n",
       "     <use xlink:href=\"#m23cd002dc4\" x=\"220.523328\" y=\"296.241823\" style=\"fill: #008fd5; fill-opacity: 0.8; stroke: #008fd5; stroke-opacity: 0.8\"/>\n",
       "     <use xlink:href=\"#m23cd002dc4\" x=\"211.732089\" y=\"387.052336\" style=\"fill: #008fd5; fill-opacity: 0.8; stroke: #008fd5; stroke-opacity: 0.8\"/>\n",
       "     <use xlink:href=\"#m23cd002dc4\" x=\"169.267983\" y=\"341.148121\" style=\"fill: #008fd5; fill-opacity: 0.8; stroke: #008fd5; stroke-opacity: 0.8\"/>\n",
       "     <use xlink:href=\"#m23cd002dc4\" x=\"135.675771\" y=\"424.973209\" style=\"fill: #008fd5; fill-opacity: 0.8; stroke: #008fd5; stroke-opacity: 0.8\"/>\n",
       "     <use xlink:href=\"#m23cd002dc4\" x=\"256.615802\" y=\"395.035678\" style=\"fill: #008fd5; fill-opacity: 0.8; stroke: #008fd5; stroke-opacity: 0.8\"/>\n",
       "     <use xlink:href=\"#m23cd002dc4\" x=\"104.94676\" y=\"473.871177\" style=\"fill: #008fd5; fill-opacity: 0.8; stroke: #008fd5; stroke-opacity: 0.8\"/>\n",
       "     <use xlink:href=\"#m23cd002dc4\" x=\"154.266419\" y=\"409.006526\" style=\"fill: #008fd5; fill-opacity: 0.8; stroke: #008fd5; stroke-opacity: 0.8\"/>\n",
       "     <use xlink:href=\"#m23cd002dc4\" x=\"121.843683\" y=\"431.958633\" style=\"fill: #008fd5; fill-opacity: 0.8; stroke: #008fd5; stroke-opacity: 0.8\"/>\n",
       "     <use xlink:href=\"#m23cd002dc4\" x=\"306.58069\" y=\"283.268893\" style=\"fill: #008fd5; fill-opacity: 0.8; stroke: #008fd5; stroke-opacity: 0.8\"/>\n",
       "     <use xlink:href=\"#m23cd002dc4\" x=\"426.714185\" y=\"218.404241\" style=\"fill: #008fd5; fill-opacity: 0.8; stroke: #008fd5; stroke-opacity: 0.8\"/>\n",
       "     <use xlink:href=\"#m23cd002dc4\" x=\"128.77989\" y=\"419.98362\" style=\"fill: #008fd5; fill-opacity: 0.8; stroke: #008fd5; stroke-opacity: 0.8\"/>\n",
       "     <use xlink:href=\"#m23cd002dc4\" x=\"130.957537\" y=\"416.989867\" style=\"fill: #008fd5; fill-opacity: 0.8; stroke: #008fd5; stroke-opacity: 0.8\"/>\n",
       "     <use xlink:href=\"#m23cd002dc4\" x=\"194.512551\" y=\"386.054418\" style=\"fill: #008fd5; fill-opacity: 0.8; stroke: #008fd5; stroke-opacity: 0.8\"/>\n",
       "     <use xlink:href=\"#m23cd002dc4\" x=\"172.494126\" y=\"371.085652\" style=\"fill: #008fd5; fill-opacity: 0.8; stroke: #008fd5; stroke-opacity: 0.8\"/>\n",
       "     <use xlink:href=\"#m23cd002dc4\" x=\"225.402869\" y=\"399.027348\" style=\"fill: #008fd5; fill-opacity: 0.8; stroke: #008fd5; stroke-opacity: 0.8\"/>\n",
       "     <use xlink:href=\"#m23cd002dc4\" x=\"119.424076\" y=\"431.958633\" style=\"fill: #008fd5; fill-opacity: 0.8; stroke: #008fd5; stroke-opacity: 0.8\"/>\n",
       "     <use xlink:href=\"#m23cd002dc4\" x=\"166.122494\" y=\"395.035678\" style=\"fill: #008fd5; fill-opacity: 0.8; stroke: #008fd5; stroke-opacity: 0.8\"/>\n",
       "     <use xlink:href=\"#m23cd002dc4\" x=\"129.465445\" y=\"453.912823\" style=\"fill: #008fd5; fill-opacity: 0.8; stroke: #008fd5; stroke-opacity: 0.8\"/>\n",
       "    </g>\n",
       "   </g>\n",
       "   <g id=\"PolyCollection_1\">\n",
       "    <path d=\"M 86.154477 446.471292 \n",
       "L 86.154477 463.449975 \n",
       "L 91.906543 459.337306 \n",
       "L 97.65861 455.200416 \n",
       "L 103.410676 451.191436 \n",
       "L 109.162742 447.072032 \n",
       "L 114.914808 443.022809 \n",
       "L 120.666874 439.006084 \n",
       "L 126.41894 435.119927 \n",
       "L 132.171006 431.394052 \n",
       "L 137.923072 427.633587 \n",
       "L 143.675138 423.802111 \n",
       "L 149.427205 419.869109 \n",
       "L 155.179271 416.178877 \n",
       "L 160.931337 412.546667 \n",
       "L 166.683403 408.980009 \n",
       "L 172.435469 405.381423 \n",
       "L 178.187535 401.883891 \n",
       "L 183.939601 398.327499 \n",
       "L 189.691667 394.770975 \n",
       "L 195.443733 391.160916 \n",
       "L 201.1958 387.682136 \n",
       "L 206.947866 384.322179 \n",
       "L 212.699932 380.810201 \n",
       "L 218.451998 377.308762 \n",
       "L 224.204064 373.892338 \n",
       "L 229.95613 370.542546 \n",
       "L 235.708196 367.035201 \n",
       "L 241.460262 363.455069 \n",
       "L 247.212329 360.214906 \n",
       "L 252.964395 356.805723 \n",
       "L 258.716461 353.38911 \n",
       "L 264.468527 350.029718 \n",
       "L 270.220593 346.744618 \n",
       "L 275.972659 343.49605 \n",
       "L 281.724725 340.23713 \n",
       "L 287.476791 336.924001 \n",
       "L 293.228857 333.579708 \n",
       "L 298.980924 330.18234 \n",
       "L 304.73299 326.933598 \n",
       "L 310.485056 323.643554 \n",
       "L 316.237122 320.298531 \n",
       "L 321.989188 317.025538 \n",
       "L 327.741254 313.622438 \n",
       "L 333.49332 310.263591 \n",
       "L 339.245386 307.014156 \n",
       "L 344.997452 303.711985 \n",
       "L 350.749519 300.403221 \n",
       "L 356.501585 297.043062 \n",
       "L 362.253651 293.784721 \n",
       "L 368.005717 290.526273 \n",
       "L 373.757783 287.236958 \n",
       "L 379.509849 283.91782 \n",
       "L 385.261915 280.604465 \n",
       "L 391.013981 277.275787 \n",
       "L 396.766048 273.945293 \n",
       "L 402.518114 270.621771 \n",
       "L 408.27018 267.284305 \n",
       "L 414.022246 263.95381 \n",
       "L 419.774312 260.727148 \n",
       "L 425.526378 257.414669 \n",
       "L 431.278444 254.078405 \n",
       "L 437.03051 250.718451 \n",
       "L 442.782576 247.311718 \n",
       "L 448.534643 243.966751 \n",
       "L 454.286709 240.635087 \n",
       "L 460.038775 237.304159 \n",
       "L 465.790841 233.974427 \n",
       "L 471.542907 230.644694 \n",
       "L 477.294973 227.314962 \n",
       "L 483.047039 223.985229 \n",
       "L 488.799105 220.655497 \n",
       "L 494.551171 217.325765 \n",
       "L 500.303238 213.994956 \n",
       "L 506.055304 210.663476 \n",
       "L 511.80737 207.331996 \n",
       "L 517.559436 203.998692 \n",
       "L 523.311502 200.665203 \n",
       "L 529.063568 197.29438 \n",
       "L 534.815634 193.864239 \n",
       "L 540.5677 190.541672 \n",
       "L 546.319767 187.230958 \n",
       "L 552.071833 183.920243 \n",
       "L 557.823899 180.609529 \n",
       "L 563.575965 177.298814 \n",
       "L 569.328031 173.9881 \n",
       "L 575.080097 170.677386 \n",
       "L 580.832163 167.354232 \n",
       "L 586.584229 164.004047 \n",
       "L 592.336295 160.652235 \n",
       "L 598.088362 157.300424 \n",
       "L 603.840428 153.948613 \n",
       "L 609.592494 150.596801 \n",
       "L 615.34456 147.24499 \n",
       "L 621.096626 143.893178 \n",
       "L 626.848692 140.548292 \n",
       "L 632.600758 137.33391 \n",
       "L 638.352824 134.044885 \n",
       "L 644.10489 130.673349 \n",
       "L 649.856957 127.296141 \n",
       "L 655.609023 123.918933 \n",
       "L 655.609023 49.725723 \n",
       "L 655.609023 49.725723 \n",
       "L 649.856957 53.9244 \n",
       "L 644.10489 58.123077 \n",
       "L 638.352824 62.321754 \n",
       "L 632.600758 66.520431 \n",
       "L 626.848692 70.719108 \n",
       "L 621.096626 74.917785 \n",
       "L 615.34456 79.116462 \n",
       "L 609.592494 83.315139 \n",
       "L 603.840428 87.513816 \n",
       "L 598.088362 91.712493 \n",
       "L 592.336295 95.91117 \n",
       "L 586.584229 100.109847 \n",
       "L 580.832163 104.308524 \n",
       "L 575.080097 108.507201 \n",
       "L 569.328031 112.705878 \n",
       "L 563.575965 116.823343 \n",
       "L 557.823899 120.91203 \n",
       "L 552.071833 125.000717 \n",
       "L 546.319767 129.184474 \n",
       "L 540.5677 133.370934 \n",
       "L 534.815634 137.545626 \n",
       "L 529.063568 141.682604 \n",
       "L 523.311502 145.819582 \n",
       "L 517.559436 149.956561 \n",
       "L 511.80737 154.093539 \n",
       "L 506.055304 158.230517 \n",
       "L 500.303238 162.368812 \n",
       "L 494.551171 166.508591 \n",
       "L 488.799105 170.64837 \n",
       "L 483.047039 174.788148 \n",
       "L 477.294973 178.927927 \n",
       "L 471.542907 183.067706 \n",
       "L 465.790841 187.207484 \n",
       "L 460.038775 191.347263 \n",
       "L 454.286709 195.487042 \n",
       "L 448.534643 199.62682 \n",
       "L 442.782576 203.808684 \n",
       "L 437.03051 208.005319 \n",
       "L 431.278444 212.170579 \n",
       "L 425.526378 216.279183 \n",
       "L 419.774312 220.387786 \n",
       "L 414.022246 224.496389 \n",
       "L 408.27018 228.604993 \n",
       "L 402.518114 232.733328 \n",
       "L 396.766048 236.930082 \n",
       "L 391.013981 241.132207 \n",
       "L 385.261915 245.334332 \n",
       "L 379.509849 249.537166 \n",
       "L 373.757783 253.62563 \n",
       "L 368.005717 257.729466 \n",
       "L 362.253651 261.799235 \n",
       "L 356.501585 265.983157 \n",
       "L 350.749519 270.169268 \n",
       "L 344.997452 274.355378 \n",
       "L 339.245386 278.541488 \n",
       "L 333.49332 282.727599 \n",
       "L 327.741254 286.872192 \n",
       "L 321.989188 290.927526 \n",
       "L 316.237122 294.982859 \n",
       "L 310.485056 299.038193 \n",
       "L 304.73299 303.172759 \n",
       "L 298.980924 307.297446 \n",
       "L 293.228857 311.358855 \n",
       "L 287.476791 315.493236 \n",
       "L 281.724725 319.629131 \n",
       "L 275.972659 323.767051 \n",
       "L 270.220593 327.906238 \n",
       "L 264.468527 332.021704 \n",
       "L 258.716461 336.082722 \n",
       "L 252.964395 340.14374 \n",
       "L 247.212329 344.202155 \n",
       "L 241.460262 348.355393 \n",
       "L 235.708196 352.317234 \n",
       "L 229.95613 356.36644 \n",
       "L 224.204064 360.25663 \n",
       "L 218.451998 364.156738 \n",
       "L 212.699932 367.982696 \n",
       "L 206.947866 371.843714 \n",
       "L 201.1958 375.68675 \n",
       "L 195.443733 379.461074 \n",
       "L 189.691667 383.241092 \n",
       "L 183.939601 386.939316 \n",
       "L 178.187535 390.6046 \n",
       "L 172.435469 394.268269 \n",
       "L 166.683403 397.925804 \n",
       "L 160.931337 401.50557 \n",
       "L 155.179271 405.082642 \n",
       "L 149.427205 408.667907 \n",
       "L 143.675138 412.140552 \n",
       "L 137.923072 415.454267 \n",
       "L 132.171006 418.984466 \n",
       "L 126.41894 422.515674 \n",
       "L 120.666874 426.071236 \n",
       "L 114.914808 429.497434 \n",
       "L 109.162742 432.881497 \n",
       "L 103.410676 436.269178 \n",
       "L 97.65861 439.650502 \n",
       "L 91.906543 443.04219 \n",
       "L 86.154477 446.471292 \n",
       "z\n",
       "\" clip-path=\"url(#p072344df87)\" style=\"fill: #008fd5; fill-opacity: 0.15\"/>\n",
       "   </g>\n",
       "   <g id=\"line2d_27\">\n",
       "    <path d=\"M 86.154477 454.180046 \n",
       "L 91.906543 450.567703 \n",
       "L 97.65861 446.95536 \n",
       "L 103.410676 443.343016 \n",
       "L 109.162742 439.730673 \n",
       "L 114.914808 436.11833 \n",
       "L 120.666874 432.505986 \n",
       "L 126.41894 428.893643 \n",
       "L 132.171006 425.2813 \n",
       "L 137.923072 421.668956 \n",
       "L 143.675138 418.056613 \n",
       "L 149.427205 414.44427 \n",
       "L 155.179271 410.831927 \n",
       "L 160.931337 407.219583 \n",
       "L 166.683403 403.60724 \n",
       "L 172.435469 399.994897 \n",
       "L 178.187535 396.382553 \n",
       "L 183.939601 392.77021 \n",
       "L 189.691667 389.157867 \n",
       "L 195.443733 385.545523 \n",
       "L 201.1958 381.93318 \n",
       "L 206.947866 378.320837 \n",
       "L 212.699932 374.708493 \n",
       "L 218.451998 371.09615 \n",
       "L 224.204064 367.483807 \n",
       "L 229.95613 363.871463 \n",
       "L 235.708196 360.25912 \n",
       "L 241.460262 356.646777 \n",
       "L 247.212329 353.034433 \n",
       "L 252.964395 349.42209 \n",
       "L 258.716461 345.809747 \n",
       "L 264.468527 342.197403 \n",
       "L 270.220593 338.58506 \n",
       "L 275.972659 334.972717 \n",
       "L 281.724725 331.360373 \n",
       "L 287.476791 327.74803 \n",
       "L 293.228857 324.135687 \n",
       "L 298.980924 320.523344 \n",
       "L 304.73299 316.911 \n",
       "L 310.485056 313.298657 \n",
       "L 316.237122 309.686314 \n",
       "L 321.989188 306.07397 \n",
       "L 327.741254 302.461627 \n",
       "L 333.49332 298.849284 \n",
       "L 339.245386 295.23694 \n",
       "L 344.997452 291.624597 \n",
       "L 350.749519 288.012254 \n",
       "L 356.501585 284.39991 \n",
       "L 362.253651 280.787567 \n",
       "L 368.005717 277.175224 \n",
       "L 373.757783 273.56288 \n",
       "L 379.509849 269.950537 \n",
       "L 385.261915 266.338194 \n",
       "L 391.013981 262.72585 \n",
       "L 396.766048 259.113507 \n",
       "L 402.518114 255.501164 \n",
       "L 408.27018 251.88882 \n",
       "L 414.022246 248.276477 \n",
       "L 419.774312 244.664134 \n",
       "L 425.526378 241.051791 \n",
       "L 431.278444 237.439447 \n",
       "L 437.03051 233.827104 \n",
       "L 442.782576 230.214761 \n",
       "L 448.534643 226.602417 \n",
       "L 454.286709 222.990074 \n",
       "L 460.038775 219.377731 \n",
       "L 465.790841 215.765387 \n",
       "L 471.542907 212.153044 \n",
       "L 477.294973 208.540701 \n",
       "L 483.047039 204.928357 \n",
       "L 488.799105 201.316014 \n",
       "L 494.551171 197.703671 \n",
       "L 500.303238 194.091327 \n",
       "L 506.055304 190.478984 \n",
       "L 511.80737 186.866641 \n",
       "L 517.559436 183.254297 \n",
       "L 523.311502 179.641954 \n",
       "L 529.063568 176.029611 \n",
       "L 534.815634 172.417267 \n",
       "L 540.5677 168.804924 \n",
       "L 546.319767 165.192581 \n",
       "L 552.071833 161.580237 \n",
       "L 557.823899 157.967894 \n",
       "L 563.575965 154.355551 \n",
       "L 569.328031 150.743208 \n",
       "L 575.080097 147.130864 \n",
       "L 580.832163 143.518521 \n",
       "L 586.584229 139.906178 \n",
       "L 592.336295 136.293834 \n",
       "L 598.088362 132.681491 \n",
       "L 603.840428 129.069148 \n",
       "L 609.592494 125.456804 \n",
       "L 615.34456 121.844461 \n",
       "L 621.096626 118.232118 \n",
       "L 626.848692 114.619774 \n",
       "L 632.600758 111.007431 \n",
       "L 638.352824 107.395088 \n",
       "L 644.10489 103.782744 \n",
       "L 649.856957 100.170401 \n",
       "L 655.609023 96.558058 \n",
       "\" clip-path=\"url(#p072344df87)\" style=\"fill: none; stroke: #008fd5; stroke-width: 6\"/>\n",
       "   </g>\n",
       "   <g id=\"patch_3\">\n",
       "    <path d=\"M 57.68175 495.07845 \n",
       "L 57.68175 28.51845 \n",
       "\" style=\"fill: none; stroke: #f0f0f0; stroke-width: 3; stroke-linejoin: miter; stroke-linecap: square\"/>\n",
       "   </g>\n",
       "   <g id=\"patch_4\">\n",
       "    <path d=\"M 684.08175 495.07845 \n",
       "L 684.08175 28.51845 \n",
       "\" style=\"fill: none; stroke: #f0f0f0; stroke-width: 3; stroke-linejoin: miter; stroke-linecap: square\"/>\n",
       "   </g>\n",
       "   <g id=\"patch_5\">\n",
       "    <path d=\"M 57.68175 495.07845 \n",
       "L 684.08175 495.07845 \n",
       "\" style=\"fill: none; stroke: #f0f0f0; stroke-width: 3; stroke-linejoin: miter; stroke-linecap: square\"/>\n",
       "   </g>\n",
       "   <g id=\"patch_6\">\n",
       "    <path d=\"M 57.68175 28.51845 \n",
       "L 684.08175 28.51845 \n",
       "\" style=\"fill: none; stroke: #f0f0f0; stroke-width: 3; stroke-linejoin: miter; stroke-linecap: square\"/>\n",
       "   </g>\n",
       "   <g id=\"text_16\">\n",
       "    <!-- Likes vs Impressions -->\n",
       "    <g transform=\"translate(267.4956 22.51845) scale(0.2016 -0.2016)\">\n",
       "     <defs>\n",
       "      <path id=\"DejaVuSans-20\" transform=\"scale(0.015625)\"/>\n",
       "      <path id=\"DejaVuSans-76\" d=\"M 191 3500 \n",
       "L 800 3500 \n",
       "L 1894 563 \n",
       "L 2988 3500 \n",
       "L 3597 3500 \n",
       "L 2284 0 \n",
       "L 1503 0 \n",
       "L 191 3500 \n",
       "z\n",
       "\" transform=\"scale(0.015625)\"/>\n",
       "     </defs>\n",
       "     <use xlink:href=\"#DejaVuSans-4c\"/>\n",
       "     <use xlink:href=\"#DejaVuSans-69\" x=\"55.712891\"/>\n",
       "     <use xlink:href=\"#DejaVuSans-6b\" x=\"83.496094\"/>\n",
       "     <use xlink:href=\"#DejaVuSans-65\" x=\"137.78125\"/>\n",
       "     <use xlink:href=\"#DejaVuSans-73\" x=\"199.304688\"/>\n",
       "     <use xlink:href=\"#DejaVuSans-20\" x=\"251.404297\"/>\n",
       "     <use xlink:href=\"#DejaVuSans-76\" x=\"283.191406\"/>\n",
       "     <use xlink:href=\"#DejaVuSans-73\" x=\"342.371094\"/>\n",
       "     <use xlink:href=\"#DejaVuSans-20\" x=\"394.470703\"/>\n",
       "     <use xlink:href=\"#DejaVuSans-49\" x=\"426.257812\"/>\n",
       "     <use xlink:href=\"#DejaVuSans-6d\" x=\"455.75\"/>\n",
       "     <use xlink:href=\"#DejaVuSans-70\" x=\"553.162109\"/>\n",
       "     <use xlink:href=\"#DejaVuSans-72\" x=\"616.638672\"/>\n",
       "     <use xlink:href=\"#DejaVuSans-65\" x=\"655.501953\"/>\n",
       "     <use xlink:href=\"#DejaVuSans-73\" x=\"717.025391\"/>\n",
       "     <use xlink:href=\"#DejaVuSans-73\" x=\"769.125\"/>\n",
       "     <use xlink:href=\"#DejaVuSans-69\" x=\"821.224609\"/>\n",
       "     <use xlink:href=\"#DejaVuSans-6f\" x=\"849.007812\"/>\n",
       "     <use xlink:href=\"#DejaVuSans-6e\" x=\"910.189453\"/>\n",
       "     <use xlink:href=\"#DejaVuSans-73\" x=\"973.568359\"/>\n",
       "    </g>\n",
       "   </g>\n",
       "  </g>\n",
       " </g>\n",
       " <defs>\n",
       "  <clipPath id=\"p072344df87\">\n",
       "   <rect x=\"57.68175\" y=\"28.51845\" width=\"626.4\" height=\"466.56\"/>\n",
       "  </clipPath>\n",
       " </defs>\n",
       "</svg>\n"
      ],
      "text/plain": [
       "<Figure size 1000x800 with 1 Axes>"
      ]
     },
     "metadata": {},
     "output_type": "display_data"
    }
   ],
   "source": [
    "# Visualize a linear relationship\n",
    "# !pip install plotly-express\n",
    "# !pip install seaborn\n",
    "import pandas as pd\n",
    "import numpy as np\n",
    "import plotly.express as px\n",
    "import matplotlib.pyplot as plt \n",
    "import seaborn as sns\n",
    "\n",
    "df = pd.read_csv(\"https://raw.githubusercontent.com/ravibilla/datasets/main/instagram.csv\", encoding = 'latin1')\n",
    "df = data.dropna()\n",
    "print(data.head())\n",
    "\n",
    "# Visualize in plotly\n",
    "figure = px.scatter(data_frame=df, \n",
    "                    x = \"Impressions\", \n",
    "                    y = \"Likes\", \n",
    "                    size = \"Likes\", \n",
    "                    trendline = \"ols\", # ols = ordinary least squares\n",
    "                    title = \"Likes vs Impressions\")\n",
    "figure.show()\n",
    "\n",
    "# Visualize in matplotlib with seaborn\n",
    "plt.figure(figsize=(10, 8))\n",
    "plt.style.use('fivethirtyeight')\n",
    "plt.title(\"Likes vs Impressions\")\n",
    "sns.regplot(x = \"Impressions\", y = \"Likes\", data = df)\n",
    "plt.show()\n"
   ]
  },
  {
   "cell_type": "markdown",
   "id": "bad15eee",
   "metadata": {},
   "source": [
    "## Generate Text"
   ]
  },
  {
   "cell_type": "code",
   "execution_count": 53,
   "id": "c9f8ee46",
   "metadata": {},
   "outputs": [
    {
     "name": "stderr",
     "output_type": "stream",
     "text": [
      "Setting `pad_token_id` to `eos_token_id`:50256 for open-end generation.\n"
     ]
    },
    {
     "name": "stdout",
     "output_type": "stream",
     "text": [
      "Hi, My name is Sally Ride, I am here to answer the questions everyone at The Big Bang Theory wants answered on this episode. I want this to be a productive discussion with a lot of folks that want answers and solutions. I don't want you to get hurt!\n",
      "\n",
      "This is a long episode and everyone has talked about all the wonderful things that happened to you, so I will give everybody and everyone of you this recap to stay in the loop. It's going to start off with\n",
      "Hi, My name is Sally Ride, I am here because I think it's my right and my duty to speak for the young people of Scotland and be seen to be doing something right. I'm here as an 18-year-old that's now in the National Party and I want people here to understand what's happening to the welfare state in this country. But I cannot even begin to explain this message which is that Scotland is a country of a single nation (which can be defined as a\n"
     ]
    }
   ],
   "source": [
    "# Generate text\n",
    "#!pip install transfomers\n",
    "from transformers import pipeline\n",
    "\n",
    "pipe = pipeline(\"text-generation\", model=\"gpt2\")\n",
    "sentence = pipe(\"Hi, My name is Sally Ride, I am here\", \n",
    "                max_length=100, \n",
    "                num_return_sequences=2)\n",
    "for i in sentence:\n",
    "  print(i[\"generated_text\"])"
   ]
  },
  {
   "cell_type": "code",
   "execution_count": null,
   "id": "f176956b",
   "metadata": {},
   "outputs": [],
   "source": []
  }
 ],
 "metadata": {
  "kernelspec": {
   "display_name": "Python 3 (ipykernel)",
   "language": "python",
   "name": "python3"
  },
  "language_info": {
   "codemirror_mode": {
    "name": "ipython",
    "version": 3
   },
   "file_extension": ".py",
   "mimetype": "text/x-python",
   "name": "python",
   "nbconvert_exporter": "python",
   "pygments_lexer": "ipython3",
   "version": "3.11.4"
  },
  "toc": {
   "base_numbering": 1,
   "nav_menu": {
    "height": "146px",
    "width": "355px"
   },
   "number_sections": true,
   "sideBar": true,
   "skip_h1_title": false,
   "title_cell": "Table of Contents",
   "title_sidebar": "Contents",
   "toc_cell": false,
   "toc_position": {},
   "toc_section_display": true,
   "toc_window_display": false
  }
 },
 "nbformat": 4,
 "nbformat_minor": 5
}
