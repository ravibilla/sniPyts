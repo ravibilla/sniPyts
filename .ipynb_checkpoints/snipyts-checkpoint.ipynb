{
 "cells": [
  {
   "cell_type": "markdown",
   "id": "f5f7f24f",
   "metadata": {},
   "source": [
    "# SniPyts"
   ]
  },
  {
   "cell_type": "code",
   "execution_count": 71,
   "id": "8c051c5d",
   "metadata": {},
   "outputs": [],
   "source": [
    "import random"
   ]
  },
  {
   "cell_type": "markdown",
   "id": "20b27ce7",
   "metadata": {},
   "source": [
    "## Number Guessing Game"
   ]
  },
  {
   "cell_type": "code",
   "execution_count": 72,
   "id": "d0937369",
   "metadata": {},
   "outputs": [],
   "source": [
    "import getpass"
   ]
  },
  {
   "cell_type": "code",
   "execution_count": 84,
   "id": "e1b8d660",
   "metadata": {},
   "outputs": [
    {
     "name": "stdout",
     "output_type": "stream",
     "text": [
      "Enter your username: billa.ravi\n",
      "Enter your password: ········\n",
      "Incorrect password! \n",
      "Enter your password again: ········\n",
      "User verfied !\n"
     ]
    }
   ],
   "source": [
    "import getpass\n",
    "\n",
    "database = {\"ravi.billa\": \"123456\", \"billa.ravi\": \"654321\"}\n",
    "username = input(\"Enter your username: \")\n",
    "\n",
    "if username in database.keys():\n",
    "    password = getpass.getpass(\"Enter your password: \")\n",
    "    \n",
    "    for user, pwd in database.items():\n",
    "         if username == user:\n",
    "                while password != database.get(user):\n",
    "                    password = getpass.getpass(\"Incorrect password! \\nEnter your password again: \")\n",
    "                break\n",
    "    print(\"User verfied !\")\n",
    "else:\n",
    "    print(\"User doesn't exist!\")\n",
    "    \n",
    "    \n",
    "\n",
    "\n",
    "\n"
   ]
  },
  {
   "cell_type": "code",
   "execution_count": 77,
   "id": "67f22234",
   "metadata": {},
   "outputs": [],
   "source": [
    "database = {\"ravi.billa\": \"123456\", \"billa.ravi\": \"654321\"}"
   ]
  },
  {
   "cell_type": "code",
   "execution_count": 78,
   "id": "67f3792f",
   "metadata": {},
   "outputs": [
    {
     "data": {
      "text/plain": [
       "dict_keys(['ravi.billa', 'billa.ravi'])"
      ]
     },
     "execution_count": 78,
     "metadata": {},
     "output_type": "execute_result"
    }
   ],
   "source": [
    "database.keys()"
   ]
  },
  {
   "cell_type": "code",
   "execution_count": null,
   "id": "c5d4c9a9",
   "metadata": {},
   "outputs": [],
   "source": [
    "    for i in database.keys():\n",
    "        print(username, i)\n",
    "        if username == i:\n",
    "            while password != database.get(i):\n",
    "                password = getpass.getpass(\"Enter your password again: \")\n",
    "            break\n"
   ]
  }
 ],
 "metadata": {
  "kernelspec": {
   "display_name": "Python 3 (ipykernel)",
   "language": "python",
   "name": "python3"
  },
  "language_info": {
   "codemirror_mode": {
    "name": "ipython",
    "version": 3
   },
   "file_extension": ".py",
   "mimetype": "text/x-python",
   "name": "python",
   "nbconvert_exporter": "python",
   "pygments_lexer": "ipython3",
   "version": "3.11.4"
  },
  "toc": {
   "base_numbering": 1,
   "nav_menu": {},
   "number_sections": true,
   "sideBar": true,
   "skip_h1_title": false,
   "title_cell": "Table of Contents",
   "title_sidebar": "Contents",
   "toc_cell": false,
   "toc_position": {},
   "toc_section_display": true,
   "toc_window_display": false
  }
 },
 "nbformat": 4,
 "nbformat_minor": 5
}
